{
 "cells": [
  {
   "attachments": {},
   "cell_type": "markdown",
   "metadata": {},
   "source": [
    "# Import Library"
   ]
  },
  {
   "cell_type": "code",
   "execution_count": 28,
   "metadata": {},
   "outputs": [],
   "source": [
    "import csv\n",
    "import tensorflow as tf\n",
    "import numpy as np\n",
    "from tensorflow.keras.preprocessing.text import Tokenizer\n",
    "from tensorflow.keras.preprocessing.sequence import pad_sequences\n",
    "import matplotlib.pyplot as plt"
   ]
  },
  {
   "attachments": {},
   "cell_type": "markdown",
   "metadata": {},
   "source": [
    "# Define Global Variables"
   ]
  },
  {
   "cell_type": "code",
   "execution_count": 14,
   "metadata": {},
   "outputs": [],
   "source": [
    "NUM_WORDS = 20000\n",
    "EMBEDDING_DIM = 16\n",
    "MAXLEN = 200\n",
    "PADDING = 'post'\n",
    "OOV_TOKEN = \"<OOV>\"\n",
    "TRAIN_FILE = \"./dataset/processed_train.csv\"\n",
    "TEST_FILE = \"./dataset/processed_test.csv\"\n",
    "STOPWORDS_FILE = \"./dataset/stopwordbahasa.csv\"\n",
    "STOPWORDS = []"
   ]
  },
  {
   "attachments": {},
   "cell_type": "markdown",
   "metadata": {},
   "source": [
    "# Define Remove Stopwords"
   ]
  },
  {
   "cell_type": "code",
   "execution_count": 15,
   "metadata": {},
   "outputs": [],
   "source": [
    "def load_stopwords(stopwords_file=STOPWORDS_FILE):\n",
    "    \"\"\"\n",
    "    Loads the stopwords from the stopwords file\n",
    "    \n",
    "    Args:\n",
    "        stopwords_file (string): path to the stopwords file\n",
    "    Returns:\n",
    "        stopwords (list): list of stopwords\n",
    "    \"\"\"\n",
    "    with open(stopwords_file, 'r') as f:\n",
    "        stopwords = []\n",
    "        reader = csv.reader(f)\n",
    "        for row in reader:\n",
    "            stopwords.append(row[0])\n",
    "        \n",
    "        return stopwords\n",
    "\n",
    "STOPWORDS = load_stopwords(STOPWORDS_FILE)"
   ]
  },
  {
   "cell_type": "code",
   "execution_count": 16,
   "metadata": {},
   "outputs": [
    {
     "data": {
      "text/plain": [
       "['ada', 'adalah', 'adanya', 'adapun', 'agak']"
      ]
     },
     "execution_count": 16,
     "metadata": {},
     "output_type": "execute_result"
    }
   ],
   "source": [
    "STOPWORDS[:5]"
   ]
  },
  {
   "cell_type": "code",
   "execution_count": 17,
   "metadata": {},
   "outputs": [],
   "source": [
    "def remove_stopwords(sentence, stopwords=STOPWORDS):\n",
    "    \"\"\"\n",
    "    Removes a list of stopwords\n",
    "    \n",
    "    Args:\n",
    "        sentence (string): sentence to remove the stopwords from\n",
    "        stopwords (list): list of stopwords to remove from the sentence\n",
    "        \n",
    "    Returns:\n",
    "        sentence (string): lowercase sentence without the stopwords\n",
    "    \"\"\"\n",
    "    sentence = sentence.lower()\n",
    "\n",
    "    words = sentence.split()\n",
    "    no_words = [w for w in words if w not in stopwords]\n",
    "    sentence = \" \".join(no_words)\n",
    "\n",
    "    return sentence"
   ]
  },
  {
   "attachments": {},
   "cell_type": "markdown",
   "metadata": {},
   "source": [
    "# Load Train and Test Data"
   ]
  },
  {
   "cell_type": "code",
   "execution_count": 18,
   "metadata": {},
   "outputs": [],
   "source": [
    "def parse_data_from_file(filename):\n",
    "    \"\"\"\n",
    "    Extracts sentences and labels from a CSV file\n",
    "    \n",
    "    Args:\n",
    "        filename (string): path to the CSV file\n",
    "    \n",
    "    Returns:\n",
    "        sentences, labels (list of string, list of string): tuple containing lists of sentences and labels\n",
    "    \"\"\"\n",
    "    sentences = []\n",
    "    labels = []\n",
    "    with open(filename, 'r', encoding=\"utf8\") as csvfile:\n",
    "        reader = csv.reader(csvfile, delimiter=',')\n",
    "        next(reader)\n",
    "        for row in reader:\n",
    "            labels.append(np.array(row[2:6], dtype=float).reshape(4))\n",
    "            sentence = row[6]\n",
    "            sentence = remove_stopwords(sentence)\n",
    "            sentences.append(sentence)\n",
    "\n",
    "    return sentences, np.array(labels)"
   ]
  },
  {
   "cell_type": "code",
   "execution_count": 19,
   "metadata": {},
   "outputs": [],
   "source": [
    "train_sentences, train_labels = parse_data_from_file(TRAIN_FILE)\n",
    "test_sentences, test_labels = parse_data_from_file(TEST_FILE)"
   ]
  },
  {
   "cell_type": "code",
   "execution_count": 20,
   "metadata": {},
   "outputs": [
    {
     "name": "stdout",
     "output_type": "stream",
     "text": [
      "jabar provinsi barokah nwoi anjing bodoh npropinsi ngerusak ngebakar gereja jatim provinsi lumbung nasbung jatim npropinsi penghasil gembong teroris jateng lumbung nasbung jateng ngarang stereotip piliah pilih nbangsat pecun\n",
      "[0. 0. 0. 1.]\n",
      "spanduk prof video orasi buku lainlain sngat heran rkyat tolol jls niat hizbut tahrir tegakan khilafah ganti negara kesatuan republik indonesia berkilah tegakan khilafah munafik apanya khilafah\n",
      "[0. 0. 1. 0.]\n",
      "No. of sentences in the training set: 6995\n",
      "No. of sentences in the test set: 778\n",
      "Shape of the labels in the training set: (6995, 4)\n",
      "Shape of the labels in the test set: (778, 4)\n"
     ]
    }
   ],
   "source": [
    "print(train_sentences[0])\n",
    "print(train_labels[0])\n",
    "\n",
    "print(test_sentences[0])\n",
    "print(test_labels[0])\n",
    "\n",
    "# number of sentences in the training set\n",
    "print(f\"No. of sentences in the training set: {len(train_sentences)}\")\n",
    "\n",
    "# number of sentences in the test set\n",
    "print(f\"No. of sentences in the test set: {len(test_sentences)}\")\n",
    "\n",
    "# shape of the labels in the training set\n",
    "print(f\"Shape of the labels in the training set: {train_labels.shape}\")\n",
    "\n",
    "# shape of the labels in the test set\n",
    "print(f\"Shape of the labels in the test set: {test_labels.shape}\")\n"
   ]
  },
  {
   "attachments": {},
   "cell_type": "markdown",
   "metadata": {},
   "source": [
    "# Tokenization - Sequences and Padding"
   ]
  },
  {
   "cell_type": "code",
   "execution_count": 21,
   "metadata": {},
   "outputs": [],
   "source": [
    "def fit_tokenizer(train_sentences, num_words, oov_token):\n",
    "    \"\"\"\n",
    "    Instantiates the Tokenizer class on the training sentences\n",
    "    \n",
    "    Args:\n",
    "        train_sentences (list of string): lower-cased sentences without stopwords to be used for training\n",
    "        num_words (int) - number of words to keep when tokenizing\n",
    "        oov_token (string) - symbol for the out-of-vocabulary token\n",
    "    \n",
    "    Returns:\n",
    "        tokenizer (object): an instance of the Tokenizer class containing the word-index dictionary\n",
    "    \"\"\"\n",
    "    \n",
    "    ### START CODE HERE\n",
    "    \n",
    "    # Instantiate the Tokenizer class, passing in the correct values for num_words and oov_token\n",
    "    tokenizer = Tokenizer(num_words=num_words, oov_token=oov_token)\n",
    "    \n",
    "    # Fit the tokenizer to the training sentences\n",
    "    tokenizer.fit_on_texts(train_sentences)\n",
    "    \n",
    "    ### END CODE HERE\n",
    "    \n",
    "    return tokenizer"
   ]
  },
  {
   "cell_type": "code",
   "execution_count": 22,
   "metadata": {},
   "outputs": [
    {
     "name": "stdout",
     "output_type": "stream",
     "text": [
      "Vocabulary contains 28899 words\n",
      "\n",
      "<OOV> token included in vocabulary\n"
     ]
    }
   ],
   "source": [
    "# Test function\n",
    "tokenizer = fit_tokenizer(train_sentences, NUM_WORDS, OOV_TOKEN)\n",
    "word_index = tokenizer.word_index\n",
    "\n",
    "print(f\"Vocabulary contains {len(word_index)} words\\n\")\n",
    "print(\"<OOV> token included in vocabulary\" if \"<OOV>\" in word_index else \"<OOV> token NOT included in vocabulary\")"
   ]
  },
  {
   "cell_type": "code",
   "execution_count": 23,
   "metadata": {},
   "outputs": [],
   "source": [
    "def seq_and_pad(sentences, tokenizer, padding, maxlen):\n",
    "    \"\"\"\n",
    "    Generates an array of token sequences and pads them to the same length\n",
    "    \n",
    "    Args:\n",
    "        sentences (list of string): list of sentences to tokenize and pad\n",
    "        tokenizer (object): Tokenizer instance containing the word-index dictionary\n",
    "        padding (string): type of padding to use\n",
    "        maxlen (int): maximum length of the token sequence\n",
    "    \n",
    "    Returns:\n",
    "        padded_sequences (array of int): tokenized sentences padded to the same length\n",
    "    \"\"\" \n",
    "    \n",
    "    ### START CODE HERE\n",
    "       \n",
    "    # Convert sentences to sequences\n",
    "    sequences = tokenizer.texts_to_sequences(sentences)\n",
    "    \n",
    "    # Pad the sequences using the correct padding and maxlen\n",
    "    padded_sequences = pad_sequences(sequences, padding=padding, maxlen=maxlen)\n",
    "    \n",
    "    ### END CODE HERE\n",
    "    \n",
    "    return padded_sequences"
   ]
  },
  {
   "cell_type": "code",
   "execution_count": 24,
   "metadata": {},
   "outputs": [
    {
     "name": "stdout",
     "output_type": "stream",
     "text": [
      "Padded training sequences have shape: (6995, 200)\n",
      "\n",
      "Padded validation sequences have shape: (778, 200)\n"
     ]
    }
   ],
   "source": [
    "# Test your function\n",
    "train_padded_seq = seq_and_pad(train_sentences, tokenizer, PADDING, MAXLEN)\n",
    "test_padded_seq = seq_and_pad(test_sentences, tokenizer, PADDING, MAXLEN)\n",
    "\n",
    "print(f\"Padded training sequences have shape: {train_padded_seq.shape}\\n\")\n",
    "print(f\"Padded validation sequences have shape: {test_padded_seq.shape}\")"
   ]
  },
  {
   "attachments": {},
   "cell_type": "markdown",
   "metadata": {},
   "source": [
    "# Create Model"
   ]
  },
  {
   "cell_type": "code",
   "execution_count": 30,
   "metadata": {},
   "outputs": [],
   "source": [
    "def create_model(num_words, embedding_dim, maxlen):\n",
    "    \"\"\"\n",
    "    Creates a text classifier model\n",
    "    \n",
    "    Args:\n",
    "        num_words (int): size of the vocabulary for the Embedding layer input\n",
    "        embedding_dim (int): dimensionality of the Embedding layer output\n",
    "        maxlen (int): length of the input sequences\n",
    "    \n",
    "    Returns:\n",
    "        model (tf.keras Model): the text classifier model\n",
    "    \"\"\"\n",
    "    \n",
    "    tf.random.set_seed(123)\n",
    "    \n",
    "    ### START CODE HERE\n",
    "    \n",
    "    model = tf.keras.Sequential([ \n",
    "        tf.keras.layers.Embedding(num_words, embedding_dim, input_length=maxlen),\n",
    "        tf.keras.layers.GlobalAveragePooling1D(),\n",
    "        tf.keras.layers.Dense(100, activation=\"relu\"),\n",
    "        tf.keras.layers.Dense(4, activation=\"sigmoid\")\n",
    "    ])\n",
    "    \n",
    "    model.compile(loss=tf.keras.losses.BinaryCrossentropy(),\n",
    "                  optimizer=tf.keras.optimizers.Adam(),\n",
    "                  metrics=['accuracy']) \n",
    "\n",
    "    ### END CODE HERE\n",
    "\n",
    "    return model"
   ]
  },
  {
   "cell_type": "code",
   "execution_count": 31,
   "metadata": {},
   "outputs": [
    {
     "name": "stdout",
     "output_type": "stream",
     "text": [
      "Epoch 1/100\n",
      "219/219 [==============================] - 2s 6ms/step - loss: 0.5479 - accuracy: 0.1079 - val_loss: 0.4990 - val_accuracy: 0.1285\n",
      "Epoch 2/100\n",
      "219/219 [==============================] - 1s 5ms/step - loss: 0.5055 - accuracy: 0.1079 - val_loss: 0.4907 - val_accuracy: 0.1285\n",
      "Epoch 3/100\n",
      "219/219 [==============================] - 1s 5ms/step - loss: 0.4878 - accuracy: 0.1199 - val_loss: 0.4655 - val_accuracy: 0.1825\n",
      "Epoch 4/100\n",
      "219/219 [==============================] - 1s 6ms/step - loss: 0.4374 - accuracy: 0.2216 - val_loss: 0.4051 - val_accuracy: 0.3021\n",
      "Epoch 5/100\n",
      "219/219 [==============================] - 1s 6ms/step - loss: 0.3561 - accuracy: 0.2981 - val_loss: 0.3378 - val_accuracy: 0.3380\n",
      "Epoch 6/100\n",
      "219/219 [==============================] - 1s 6ms/step - loss: 0.2967 - accuracy: 0.3327 - val_loss: 0.3129 - val_accuracy: 0.3458\n",
      "Epoch 7/100\n",
      "219/219 [==============================] - 1s 6ms/step - loss: 0.2610 - accuracy: 0.3511 - val_loss: 0.2969 - val_accuracy: 0.3805\n",
      "Epoch 8/100\n",
      "219/219 [==============================] - 1s 5ms/step - loss: 0.2331 - accuracy: 0.3800 - val_loss: 0.2894 - val_accuracy: 0.4087\n",
      "Epoch 9/100\n",
      "219/219 [==============================] - 1s 6ms/step - loss: 0.2082 - accuracy: 0.4011 - val_loss: 0.2824 - val_accuracy: 0.4075\n",
      "Epoch 10/100\n",
      "219/219 [==============================] - 1s 6ms/step - loss: 0.1872 - accuracy: 0.4206 - val_loss: 0.2806 - val_accuracy: 0.4486\n",
      "Epoch 11/100\n",
      "219/219 [==============================] - 1s 6ms/step - loss: 0.1689 - accuracy: 0.4370 - val_loss: 0.2804 - val_accuracy: 0.4473\n",
      "Epoch 12/100\n",
      "219/219 [==============================] - 1s 6ms/step - loss: 0.1515 - accuracy: 0.4426 - val_loss: 0.2800 - val_accuracy: 0.4524\n",
      "Epoch 13/100\n",
      "219/219 [==============================] - 1s 6ms/step - loss: 0.1384 - accuracy: 0.4510 - val_loss: 0.2866 - val_accuracy: 0.4550\n",
      "Epoch 14/100\n",
      "219/219 [==============================] - 1s 5ms/step - loss: 0.1263 - accuracy: 0.4565 - val_loss: 0.2895 - val_accuracy: 0.4627\n",
      "Epoch 15/100\n",
      "219/219 [==============================] - 1s 6ms/step - loss: 0.1160 - accuracy: 0.4613 - val_loss: 0.2965 - val_accuracy: 0.4524\n",
      "Epoch 16/100\n",
      "219/219 [==============================] - 1s 6ms/step - loss: 0.1067 - accuracy: 0.4698 - val_loss: 0.3010 - val_accuracy: 0.4332\n",
      "Epoch 17/100\n",
      "219/219 [==============================] - 1s 5ms/step - loss: 0.0989 - accuracy: 0.4712 - val_loss: 0.3077 - val_accuracy: 0.4473\n",
      "Epoch 18/100\n",
      "219/219 [==============================] - 1s 5ms/step - loss: 0.0915 - accuracy: 0.4772 - val_loss: 0.3173 - val_accuracy: 0.4730\n",
      "Epoch 19/100\n",
      "219/219 [==============================] - 1s 5ms/step - loss: 0.0854 - accuracy: 0.4809 - val_loss: 0.3201 - val_accuracy: 0.4640\n",
      "Epoch 20/100\n",
      "219/219 [==============================] - 1s 5ms/step - loss: 0.0790 - accuracy: 0.4866 - val_loss: 0.3294 - val_accuracy: 0.4524\n",
      "Epoch 21/100\n",
      "219/219 [==============================] - 1s 5ms/step - loss: 0.0745 - accuracy: 0.4948 - val_loss: 0.3473 - val_accuracy: 0.4512\n",
      "Epoch 22/100\n",
      "219/219 [==============================] - 1s 5ms/step - loss: 0.0689 - accuracy: 0.5011 - val_loss: 0.3445 - val_accuracy: 0.4640\n",
      "Epoch 23/100\n",
      "219/219 [==============================] - 1s 5ms/step - loss: 0.0650 - accuracy: 0.5026 - val_loss: 0.3516 - val_accuracy: 0.4627\n",
      "Epoch 24/100\n",
      "219/219 [==============================] - 1s 5ms/step - loss: 0.0611 - accuracy: 0.5086 - val_loss: 0.3609 - val_accuracy: 0.4743\n",
      "Epoch 25/100\n",
      "219/219 [==============================] - 1s 5ms/step - loss: 0.0569 - accuracy: 0.5128 - val_loss: 0.3761 - val_accuracy: 0.4627\n",
      "Epoch 26/100\n",
      "219/219 [==============================] - 1s 5ms/step - loss: 0.0535 - accuracy: 0.5241 - val_loss: 0.3994 - val_accuracy: 0.4807\n",
      "Epoch 27/100\n",
      "219/219 [==============================] - 1s 5ms/step - loss: 0.0503 - accuracy: 0.5224 - val_loss: 0.4052 - val_accuracy: 0.4627\n",
      "Epoch 28/100\n",
      "219/219 [==============================] - 1s 5ms/step - loss: 0.0470 - accuracy: 0.5291 - val_loss: 0.4033 - val_accuracy: 0.4653\n",
      "Epoch 29/100\n",
      "219/219 [==============================] - 1s 4ms/step - loss: 0.0441 - accuracy: 0.5282 - val_loss: 0.4192 - val_accuracy: 0.4576\n",
      "Epoch 30/100\n",
      "219/219 [==============================] - 1s 5ms/step - loss: 0.0417 - accuracy: 0.5302 - val_loss: 0.4215 - val_accuracy: 0.4730\n",
      "Epoch 31/100\n",
      "219/219 [==============================] - 1s 5ms/step - loss: 0.0391 - accuracy: 0.5380 - val_loss: 0.4323 - val_accuracy: 0.4794\n",
      "Epoch 32/100\n",
      "219/219 [==============================] - 1s 5ms/step - loss: 0.0369 - accuracy: 0.5398 - val_loss: 0.4440 - val_accuracy: 0.4961\n",
      "Epoch 33/100\n",
      "219/219 [==============================] - 1s 5ms/step - loss: 0.0346 - accuracy: 0.5370 - val_loss: 0.4473 - val_accuracy: 0.4897\n",
      "Epoch 34/100\n",
      "219/219 [==============================] - 1s 5ms/step - loss: 0.0318 - accuracy: 0.5438 - val_loss: 0.4655 - val_accuracy: 0.4820\n",
      "Epoch 35/100\n",
      "219/219 [==============================] - 1s 5ms/step - loss: 0.0301 - accuracy: 0.5434 - val_loss: 0.4701 - val_accuracy: 0.4666\n",
      "Epoch 36/100\n",
      "219/219 [==============================] - 1s 5ms/step - loss: 0.0280 - accuracy: 0.5364 - val_loss: 0.4808 - val_accuracy: 0.4859\n",
      "Epoch 37/100\n",
      "219/219 [==============================] - 1s 5ms/step - loss: 0.0256 - accuracy: 0.5470 - val_loss: 0.4957 - val_accuracy: 0.4769\n",
      "Epoch 38/100\n",
      "219/219 [==============================] - 1s 5ms/step - loss: 0.0246 - accuracy: 0.5408 - val_loss: 0.5030 - val_accuracy: 0.4807\n",
      "Epoch 39/100\n",
      "219/219 [==============================] - 1s 5ms/step - loss: 0.0224 - accuracy: 0.5437 - val_loss: 0.5370 - val_accuracy: 0.4949\n",
      "Epoch 40/100\n",
      "219/219 [==============================] - 1s 5ms/step - loss: 0.0223 - accuracy: 0.5441 - val_loss: 0.5264 - val_accuracy: 0.4576\n",
      "Epoch 41/100\n",
      "219/219 [==============================] - 1s 5ms/step - loss: 0.0200 - accuracy: 0.5402 - val_loss: 0.5349 - val_accuracy: 0.4897\n",
      "Epoch 42/100\n",
      "219/219 [==============================] - 1s 5ms/step - loss: 0.0188 - accuracy: 0.5395 - val_loss: 0.5476 - val_accuracy: 0.4550\n",
      "Epoch 43/100\n",
      "219/219 [==============================] - 1s 5ms/step - loss: 0.0176 - accuracy: 0.5444 - val_loss: 0.5656 - val_accuracy: 0.4884\n",
      "Epoch 44/100\n",
      "219/219 [==============================] - 1s 5ms/step - loss: 0.0163 - accuracy: 0.5448 - val_loss: 0.5614 - val_accuracy: 0.4820\n",
      "Epoch 45/100\n",
      "219/219 [==============================] - 1s 4ms/step - loss: 0.0154 - accuracy: 0.5437 - val_loss: 0.5726 - val_accuracy: 0.4910\n",
      "Epoch 46/100\n",
      "219/219 [==============================] - 1s 5ms/step - loss: 0.0145 - accuracy: 0.5534 - val_loss: 0.5909 - val_accuracy: 0.5013\n",
      "Epoch 47/100\n",
      "219/219 [==============================] - 1s 5ms/step - loss: 0.0144 - accuracy: 0.5491 - val_loss: 0.6019 - val_accuracy: 0.4717\n",
      "Epoch 48/100\n",
      "219/219 [==============================] - 1s 5ms/step - loss: 0.0134 - accuracy: 0.5422 - val_loss: 0.6038 - val_accuracy: 0.4781\n",
      "Epoch 49/100\n",
      "219/219 [==============================] - 1s 4ms/step - loss: 0.0128 - accuracy: 0.5492 - val_loss: 0.6195 - val_accuracy: 0.4730\n",
      "Epoch 50/100\n",
      "219/219 [==============================] - 1s 5ms/step - loss: 0.0119 - accuracy: 0.5485 - val_loss: 0.6262 - val_accuracy: 0.4807\n",
      "Epoch 51/100\n",
      "219/219 [==============================] - 1s 5ms/step - loss: 0.0118 - accuracy: 0.5484 - val_loss: 0.6398 - val_accuracy: 0.4743\n",
      "Epoch 52/100\n",
      "219/219 [==============================] - 1s 5ms/step - loss: 0.0112 - accuracy: 0.5500 - val_loss: 0.6459 - val_accuracy: 0.4717\n",
      "Epoch 53/100\n",
      "219/219 [==============================] - 1s 5ms/step - loss: 0.0111 - accuracy: 0.5514 - val_loss: 0.6508 - val_accuracy: 0.4884\n",
      "Epoch 54/100\n",
      "219/219 [==============================] - 1s 5ms/step - loss: 0.0110 - accuracy: 0.5408 - val_loss: 0.6982 - val_accuracy: 0.5167\n",
      "Epoch 55/100\n",
      "219/219 [==============================] - 1s 5ms/step - loss: 0.0101 - accuracy: 0.5561 - val_loss: 0.6849 - val_accuracy: 0.4961\n",
      "Epoch 56/100\n",
      "219/219 [==============================] - 1s 5ms/step - loss: 0.0096 - accuracy: 0.5587 - val_loss: 0.6786 - val_accuracy: 0.4704\n",
      "Epoch 57/100\n",
      "219/219 [==============================] - 1s 5ms/step - loss: 0.0089 - accuracy: 0.5467 - val_loss: 0.6946 - val_accuracy: 0.4846\n",
      "Epoch 58/100\n",
      "219/219 [==============================] - 1s 5ms/step - loss: 0.0082 - accuracy: 0.5627 - val_loss: 0.6962 - val_accuracy: 0.4859\n",
      "Epoch 59/100\n",
      "219/219 [==============================] - 1s 5ms/step - loss: 0.0084 - accuracy: 0.5564 - val_loss: 0.7030 - val_accuracy: 0.4640\n",
      "Epoch 60/100\n",
      "219/219 [==============================] - 1s 5ms/step - loss: 0.0085 - accuracy: 0.5621 - val_loss: 0.7113 - val_accuracy: 0.4871\n",
      "Epoch 61/100\n",
      "219/219 [==============================] - 1s 5ms/step - loss: 0.0082 - accuracy: 0.5623 - val_loss: 0.7103 - val_accuracy: 0.4910\n",
      "Epoch 62/100\n",
      "219/219 [==============================] - 1s 5ms/step - loss: 0.0083 - accuracy: 0.5614 - val_loss: 0.7280 - val_accuracy: 0.5026\n",
      "Epoch 63/100\n",
      "219/219 [==============================] - 1s 4ms/step - loss: 0.0077 - accuracy: 0.5614 - val_loss: 0.7469 - val_accuracy: 0.4794\n",
      "Epoch 64/100\n",
      "219/219 [==============================] - 1s 4ms/step - loss: 0.0086 - accuracy: 0.5665 - val_loss: 0.7314 - val_accuracy: 0.4756\n",
      "Epoch 65/100\n",
      "219/219 [==============================] - 1s 4ms/step - loss: 0.0076 - accuracy: 0.5640 - val_loss: 0.7396 - val_accuracy: 0.4743\n",
      "Epoch 66/100\n",
      "219/219 [==============================] - 1s 4ms/step - loss: 0.0071 - accuracy: 0.5600 - val_loss: 0.7683 - val_accuracy: 0.4692\n",
      "Epoch 67/100\n",
      "219/219 [==============================] - 1s 4ms/step - loss: 0.0074 - accuracy: 0.5621 - val_loss: 0.7918 - val_accuracy: 0.4833\n",
      "Epoch 68/100\n",
      "219/219 [==============================] - 1s 4ms/step - loss: 0.0078 - accuracy: 0.5657 - val_loss: 0.7914 - val_accuracy: 0.4653\n",
      "Epoch 69/100\n",
      "219/219 [==============================] - 1s 4ms/step - loss: 0.0069 - accuracy: 0.5571 - val_loss: 0.7717 - val_accuracy: 0.4717\n",
      "Epoch 70/100\n",
      "219/219 [==============================] - 1s 5ms/step - loss: 0.0071 - accuracy: 0.5474 - val_loss: 0.7768 - val_accuracy: 0.4756\n",
      "Epoch 71/100\n",
      "219/219 [==============================] - 1s 4ms/step - loss: 0.0067 - accuracy: 0.5578 - val_loss: 0.7859 - val_accuracy: 0.4820\n",
      "Epoch 72/100\n",
      "219/219 [==============================] - 1s 5ms/step - loss: 0.0068 - accuracy: 0.5687 - val_loss: 0.8159 - val_accuracy: 0.4820\n",
      "Epoch 73/100\n",
      "219/219 [==============================] - 1s 4ms/step - loss: 0.0064 - accuracy: 0.5610 - val_loss: 0.8169 - val_accuracy: 0.4781\n",
      "Epoch 74/100\n",
      "219/219 [==============================] - 1s 4ms/step - loss: 0.0066 - accuracy: 0.5533 - val_loss: 0.7968 - val_accuracy: 0.4820\n",
      "Epoch 75/100\n",
      "219/219 [==============================] - 1s 4ms/step - loss: 0.0063 - accuracy: 0.5617 - val_loss: 0.8122 - val_accuracy: 0.4602\n",
      "Epoch 76/100\n",
      "219/219 [==============================] - 1s 4ms/step - loss: 0.0065 - accuracy: 0.5608 - val_loss: 0.8062 - val_accuracy: 0.4614\n",
      "Epoch 77/100\n",
      "219/219 [==============================] - 1s 5ms/step - loss: 0.0066 - accuracy: 0.5567 - val_loss: 0.8107 - val_accuracy: 0.4846\n",
      "Epoch 78/100\n",
      "219/219 [==============================] - 1s 6ms/step - loss: 0.0066 - accuracy: 0.5633 - val_loss: 0.8203 - val_accuracy: 0.4692\n",
      "Epoch 79/100\n",
      "219/219 [==============================] - 1s 5ms/step - loss: 0.0063 - accuracy: 0.5574 - val_loss: 0.8188 - val_accuracy: 0.4781\n",
      "Epoch 80/100\n",
      "219/219 [==============================] - 1s 5ms/step - loss: 0.0061 - accuracy: 0.5713 - val_loss: 0.8435 - val_accuracy: 0.4756\n",
      "Epoch 81/100\n",
      "219/219 [==============================] - 1s 5ms/step - loss: 0.0059 - accuracy: 0.5610 - val_loss: 0.8297 - val_accuracy: 0.4627\n",
      "Epoch 82/100\n",
      "219/219 [==============================] - 1s 5ms/step - loss: 0.0059 - accuracy: 0.5507 - val_loss: 0.8837 - val_accuracy: 0.5026\n",
      "Epoch 83/100\n",
      "219/219 [==============================] - 1s 5ms/step - loss: 0.0063 - accuracy: 0.5607 - val_loss: 0.8515 - val_accuracy: 0.4807\n",
      "Epoch 84/100\n",
      "219/219 [==============================] - 1s 5ms/step - loss: 0.0063 - accuracy: 0.5647 - val_loss: 0.8511 - val_accuracy: 0.4756\n",
      "Epoch 85/100\n",
      "219/219 [==============================] - 1s 5ms/step - loss: 0.0062 - accuracy: 0.5563 - val_loss: 0.8627 - val_accuracy: 0.4794\n",
      "Epoch 86/100\n",
      "219/219 [==============================] - 1s 5ms/step - loss: 0.0063 - accuracy: 0.5561 - val_loss: 0.8616 - val_accuracy: 0.4910\n",
      "Epoch 87/100\n",
      "219/219 [==============================] - 1s 5ms/step - loss: 0.0056 - accuracy: 0.5564 - val_loss: 0.8772 - val_accuracy: 0.4936\n",
      "Epoch 88/100\n",
      "219/219 [==============================] - 1s 4ms/step - loss: 0.0059 - accuracy: 0.5513 - val_loss: 0.8692 - val_accuracy: 0.4974\n",
      "Epoch 89/100\n",
      "219/219 [==============================] - 1s 4ms/step - loss: 0.0057 - accuracy: 0.5621 - val_loss: 0.9262 - val_accuracy: 0.4666\n",
      "Epoch 90/100\n",
      "219/219 [==============================] - 1s 4ms/step - loss: 0.0057 - accuracy: 0.5490 - val_loss: 0.8739 - val_accuracy: 0.4807\n",
      "Epoch 91/100\n",
      "219/219 [==============================] - 1s 4ms/step - loss: 0.0054 - accuracy: 0.5624 - val_loss: 0.8934 - val_accuracy: 0.4871\n",
      "Epoch 92/100\n",
      "219/219 [==============================] - 1s 4ms/step - loss: 0.0056 - accuracy: 0.5648 - val_loss: 0.8828 - val_accuracy: 0.4640\n",
      "Epoch 93/100\n",
      "219/219 [==============================] - 1s 5ms/step - loss: 0.0056 - accuracy: 0.5547 - val_loss: 0.8869 - val_accuracy: 0.4576\n",
      "Epoch 94/100\n",
      "219/219 [==============================] - 1s 5ms/step - loss: 0.0056 - accuracy: 0.5535 - val_loss: 0.9196 - val_accuracy: 0.4871\n",
      "Epoch 95/100\n",
      "219/219 [==============================] - 1s 4ms/step - loss: 0.0057 - accuracy: 0.5570 - val_loss: 0.9120 - val_accuracy: 0.4769\n",
      "Epoch 96/100\n",
      "219/219 [==============================] - 1s 5ms/step - loss: 0.0057 - accuracy: 0.5448 - val_loss: 0.9034 - val_accuracy: 0.4653\n",
      "Epoch 97/100\n",
      "219/219 [==============================] - 1s 6ms/step - loss: 0.0056 - accuracy: 0.5567 - val_loss: 0.9182 - val_accuracy: 0.4897\n",
      "Epoch 98/100\n",
      "219/219 [==============================] - 1s 5ms/step - loss: 0.0054 - accuracy: 0.5454 - val_loss: 0.9038 - val_accuracy: 0.4717\n",
      "Epoch 99/100\n",
      "219/219 [==============================] - 1s 5ms/step - loss: 0.0051 - accuracy: 0.5557 - val_loss: 0.9181 - val_accuracy: 0.4807\n",
      "Epoch 100/100\n",
      "219/219 [==============================] - 1s 5ms/step - loss: 0.0051 - accuracy: 0.5477 - val_loss: 0.9464 - val_accuracy: 0.4769\n"
     ]
    }
   ],
   "source": [
    "model = create_model(NUM_WORDS, EMBEDDING_DIM, MAXLEN)\n",
    "\n",
    "history = model.fit(train_padded_seq, train_labels, epochs=100, validation_data=(test_padded_seq, test_labels))"
   ]
  },
  {
   "attachments": {},
   "cell_type": "markdown",
   "metadata": {},
   "source": [
    "# Evaluate The Model"
   ]
  },
  {
   "cell_type": "code",
   "execution_count": 32,
   "metadata": {},
   "outputs": [
    {
     "data": {
      "image/png": "[encoded data removed]",
      "text/plain": [
       "<Figure size 640x480 with 1 Axes>"
      ]
     },
     "metadata": {},
     "output_type": "display_data"
    },
    {
     "data": {
      "image/png": "[encoded data removed]",
      "text/plain": [
       "<Figure size 640x480 with 1 Axes>"
      ]
     },
     "metadata": {},
     "output_type": "display_data"
    }
   ],
   "source": [
    "def plot_graphs(history, metric):\n",
    "    plt.plot(history.history[metric])\n",
    "    plt.plot(history.history[f'val_{metric}'])\n",
    "    plt.xlabel(\"Epochs\")\n",
    "    plt.ylabel(metric)\n",
    "    plt.legend([metric, f'val_{metric}'])\n",
    "    plt.show()\n",
    "    \n",
    "plot_graphs(history, \"accuracy\")\n",
    "plot_graphs(history, \"loss\")"
   ]
  },
  {
   "attachments": {},
   "cell_type": "markdown",
   "metadata": {},
   "source": [
    "# Save The Model"
   ]
  },
  {
   "attachments": {},
   "cell_type": "markdown",
   "metadata": {},
   "source": []
  },
  {
   "cell_type": "code",
   "execution_count": null,
   "metadata": {},
   "outputs": [],
   "source": []
  },
  {
   "attachments": {},
   "cell_type": "markdown",
   "metadata": {},
   "source": [
    "# Make Prediction"
   ]
  },
  {
   "cell_type": "code",
   "execution_count": 34,
   "metadata": {},
   "outputs": [
    {
     "name": "stdout",
     "output_type": "stream",
     "text": [
      "25/25 [==============================] - 0s 1ms/step\n"
     ]
    },
    {
     "data": {
      "text/plain": [
       "array([[False, False,  True, False],\n",
       "       [ True, False, False, False],\n",
       "       [False, False, False, False],\n",
       "       ...,\n",
       "       [ True, False, False,  True],\n",
       "       [False, False, False, False],\n",
       "       [False, False, False,  True]])"
      ]
     },
     "execution_count": 34,
     "metadata": {},
     "output_type": "execute_result"
    }
   ],
   "source": [
    "model.predict(test_padded_seq) > 0.5 # 0.5 is the threshold"
   ]
  }
 ],
 "metadata": {
  "kernelspec": {
   "display_name": "Python 3",
   "language": "python",
   "name": "python3"
  },
  "language_info": {
   "codemirror_mode": {
    "name": "ipython",
    "version": 3
   },
   "file_extension": ".py",
   "mimetype": "text/x-python",
   "name": "python",
   "nbconvert_exporter": "python",
   "pygments_lexer": "ipython3",
   "version": "3.11.0"
  },
  "orig_nbformat": 4
 },
 "nbformat": 4,
 "nbformat_minor": 2
}
