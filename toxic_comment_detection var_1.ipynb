{
 "cells": [
  {
   "attachments": {},
   "cell_type": "markdown",
   "metadata": {},
   "source": [
    "# Import Library"
   ]
  },
  {
   "cell_type": "code",
   "execution_count": null,
   "metadata": {},
   "outputs": [],
   "source": [
    "import csv\n",
    "import pandas as pd\n",
    "import tensorflow as tf\n",
    "import numpy as np\n",
    "from tensorflow.keras.preprocessing.text import Tokenizer\n",
    "from tensorflow.keras.preprocessing.sequence import pad_sequences\n",
    "import matplotlib.pyplot as plt\n",
    "import pickle\n",
    "import re\n",
    "from nltk.tokenize import WordPunctTokenizer\n",
    "import itertools\n",
    "from Sastrawi.Stemmer.StemmerFactory import StemmerFactory"
   ]
  },
  {
   "attachments": {},
   "cell_type": "markdown",
   "metadata": {},
   "source": [
    "# Define Global Variables"
   ]
  },
  {
   "cell_type": "code",
   "execution_count": null,
   "metadata": {},
   "outputs": [],
   "source": [
    "NUM_WORDS = 30000\n",
    "EMBEDDING_DIM = 16\n",
    "MAXLEN = 100\n",
    "PADDING = 'post'\n",
    "OOV_TOKEN = \"<OOV>\"\n",
    "TRAIN_FILE = \"./dataset/raw/train.csv\"\n",
    "TEST_FILE = \"./dataset/raw/test.csv\"\n",
    "STOPWORDS_FILE = \"./dataset/stopwordbahasa.csv\"\n",
    "STOPWORDS = []"
   ]
  },
  {
   "attachments": {},
   "cell_type": "markdown",
   "metadata": {},
   "source": [
    "# Preprocessing"
   ]
  },
  {
   "cell_type": "code",
   "execution_count": null,
   "metadata": {},
   "outputs": [],
   "source": [
    "EXTERNAL_DATA_PATH = './dataset/external'"
   ]
  },
  {
   "cell_type": "code",
   "execution_count": null,
   "metadata": {},
   "outputs": [],
   "source": [
    "# Translate emoticon\n",
    "emoticon_data_path = '{}/emoticon.txt'.format(EXTERNAL_DATA_PATH)\n",
    "emoticon_df = pd.read_csv(emoticon_data_path, sep='\\t', header=None)\n",
    "emoticon_dict = dict(zip(emoticon_df[0], emoticon_df[1]))\n",
    "\n",
    "def translate_emoticon(t):\n",
    "    for w, v in emoticon_dict.items():\n",
    "        pattern = re.compile(re.escape(w))\n",
    "        match = re.search(pattern,t)\n",
    "        if match:\n",
    "            t = re.sub(pattern,v,t)\n",
    "    return t"
   ]
  },
  {
   "cell_type": "code",
   "execution_count": null,
   "metadata": {},
   "outputs": [
    {
     "name": "stdout",
     "output_type": "stream",
     "text": [
      "Before : seru deh acaranya :-)\n",
      "After  : seru deh acaranya Bahagia\n"
     ]
    }
   ],
   "source": [
    "sample_text = 'seru deh acaranya :-)'\n",
    "\n",
    "print('Before :', sample_text)\n",
    "print('After  :', translate_emoticon(sample_text))"
   ]
  },
  {
   "cell_type": "code",
   "execution_count": null,
   "metadata": {},
   "outputs": [],
   "source": [
    "def remove_newline(text):\n",
    "    text = re.sub(r'\\\\n', ' ',text)\n",
    "    return re.sub(r'\\n', ' ',text)"
   ]
  },
  {
   "cell_type": "code",
   "execution_count": null,
   "metadata": {},
   "outputs": [
    {
     "name": "stdout",
     "output_type": "stream",
     "text": [
      "Before : hari ini\n",
      "hari\n",
      "sabtu\n",
      "After  : hari ini hari sabtu\n"
     ]
    }
   ],
   "source": [
    "sample_text = 'hari ini\\nhari\\nsabtu'\n",
    "\n",
    "print('Before :', sample_text)\n",
    "print('After  :', remove_newline(sample_text))"
   ]
  },
  {
   "cell_type": "code",
   "execution_count": null,
   "metadata": {},
   "outputs": [],
   "source": [
    "def remove_kaskus_formatting(text):\n",
    "    text = re.sub('\\[', ' [', text)\n",
    "    text = re.sub('\\]', '] ', text)\n",
    "    text = re.sub('\\[quote[^ ]*\\].*?\\[\\/quote\\]', ' ', text)\n",
    "    text = re.sub('\\[[^ ]*\\]', ' ', text)\n",
    "    text = re.sub('&quot;', ' ', text)\n",
    "    text = text.strip()\n",
    "    return text"
   ]
  },
  {
   "cell_type": "code",
   "execution_count": null,
   "metadata": {},
   "outputs": [
    {
     "name": "stdout",
     "output_type": "stream",
     "text": [
      "Before : [QUOTE=jessepinkman16;5a50ac34d89b093f368b456e]yoiii cuy halo halo bandung[/QUOTE]\n",
      "After  : yoiii cuy halo halo bandung\n"
     ]
    }
   ],
   "source": [
    "sample_text = '[QUOTE=jessepinkman16;5a50ac34d89b093f368b456e]yoiii cuy halo halo bandung[/QUOTE]'\n",
    "\n",
    "print('Before :', sample_text)\n",
    "print('After  :', remove_kaskus_formatting(sample_text))"
   ]
  },
  {
   "cell_type": "code",
   "execution_count": null,
   "metadata": {},
   "outputs": [],
   "source": [
    "def remove_url(text):\n",
    "    return re.sub('((www\\.[^\\s]+)|(https?://[^\\s]+)|(http?://[^\\s]+))', '', text)"
   ]
  },
  {
   "cell_type": "code",
   "execution_count": null,
   "metadata": {},
   "outputs": [
    {
     "name": "stdout",
     "output_type": "stream",
     "text": [
      "Before : kemaren kacao bet de www.instagram.com/lele/lili\n",
      "After  : kemaren kacao bet de \n"
     ]
    }
   ],
   "source": [
    "sample_text = 'kemaren kacao bet de www.instagram.com/lele/lili'\n",
    "\n",
    "print('Before :', sample_text)\n",
    "print('After  :', remove_url(sample_text))"
   ]
  },
  {
   "cell_type": "code",
   "execution_count": null,
   "metadata": {},
   "outputs": [],
   "source": [
    "def remove_excessive_whitespace(text):\n",
    "    return re.sub('  +', ' ', text)"
   ]
  },
  {
   "cell_type": "code",
   "execution_count": null,
   "metadata": {},
   "outputs": [
    {
     "name": "stdout",
     "output_type": "stream",
     "text": [
      "Before : budi      pergi ke           pasar\n",
      "After  : budi pergi ke pasar\n"
     ]
    }
   ],
   "source": [
    "sample_text = 'budi      pergi ke           pasar'\n",
    "\n",
    "print('Before :', sample_text)\n",
    "print('After  :', remove_excessive_whitespace(sample_text))"
   ]
  },
  {
   "cell_type": "code",
   "execution_count": null,
   "metadata": {},
   "outputs": [],
   "source": [
    "def tokenize_text(text, punct=False):\n",
    "    text = WordPunctTokenizer().tokenize(text)\n",
    "    text = [word for word in text if punct or word.isalnum()]\n",
    "    text = ' '.join(text)\n",
    "    text = text.strip()\n",
    "    return text"
   ]
  },
  {
   "cell_type": "code",
   "execution_count": null,
   "metadata": {},
   "outputs": [
    {
     "name": "stdout",
     "output_type": "stream",
     "text": [
      "Before : kemarin,aku pergi ke dagas.terus ketemu sama Ilham.\n",
      "After  : kemarin aku pergi ke dagas terus ketemu sama Ilham\n"
     ]
    }
   ],
   "source": [
    "sample_text = 'kemarin,aku pergi ke dagas.terus ketemu sama Ilham.'\n",
    "\n",
    "print('Before :', sample_text)\n",
    "print('After  :', tokenize_text(sample_text))"
   ]
  },
  {
   "cell_type": "code",
   "execution_count": null,
   "metadata": {},
   "outputs": [],
   "source": [
    "slang_words = pd.read_csv('{}/slangword.csv'.format(EXTERNAL_DATA_PATH))\n",
    "slang_dict = dict(zip(slang_words['original'],slang_words['translated']))\n",
    "\n",
    "def transform_slang_words(text):\n",
    "    word_list = text.split()\n",
    "    word_list_len = len(word_list)\n",
    "    transformed_word_list = []\n",
    "    i = 0\n",
    "    while i < word_list_len:\n",
    "        if (i + 1) < word_list_len:\n",
    "            two_words = ' '.join(word_list[i:i+2])\n",
    "            if two_words in slang_dict:\n",
    "                transformed_word_list.append(slang_dict[two_words])\n",
    "                i += 2\n",
    "                continue\n",
    "        transformed_word_list.append(slang_dict.get(word_list[i], word_list[i]))\n",
    "        i += 1\n",
    "    return ' '.join(transformed_word_list)"
   ]
  },
  {
   "cell_type": "code",
   "execution_count": null,
   "metadata": {},
   "outputs": [
    {
     "name": "stdout",
     "output_type": "stream",
     "text": [
      "Before : siap mas sebentar lagi saya sampai 7an\n",
      "After  : siap mas sebentar lagi saya sampai tujuan\n"
     ]
    }
   ],
   "source": [
    "sample_text = 'siap mas sebentar lagi saya sampai 7an'\n",
    "\n",
    "print('Before :', sample_text)\n",
    "print('After  :', transform_slang_words(sample_text))"
   ]
  },
  {
   "cell_type": "code",
   "execution_count": null,
   "metadata": {},
   "outputs": [],
   "source": [
    "def remove_non_alphabet(text):\n",
    "    output = re.sub('[^a-zA-Z ]+', '', text)\n",
    "    return output"
   ]
  },
  {
   "cell_type": "code",
   "execution_count": null,
   "metadata": {},
   "outputs": [
    {
     "name": "stdout",
     "output_type": "stream",
     "text": [
      "Before : kemaren tu123 ada kelinci di kebun\n",
      "After  : kemaren tu ada kelinci di kebun\n"
     ]
    }
   ],
   "source": [
    "sample_text = 'kemaren tu123 ada kelinci di kebun'\n",
    "\n",
    "print('Before :', sample_text)\n",
    "print('After  :', remove_non_alphabet(sample_text))"
   ]
  },
  {
   "cell_type": "code",
   "execution_count": null,
   "metadata": {},
   "outputs": [],
   "source": [
    "def remove_twitter_ig_formatting(text):\n",
    "    text = re.sub(r'@[A-Za-z0-9]+', '', text)\n",
    "    text = re.sub(r'\\brt\\b', '', text)\n",
    "    text = text.strip()\n",
    "    return text"
   ]
  },
  {
   "cell_type": "code",
   "execution_count": null,
   "metadata": {},
   "outputs": [
    {
     "name": "stdout",
     "output_type": "stream",
     "text": [
      "Before : @jonijon menurut saya hal tersebut masih kurang baik dilakukan sih kak\n",
      "After  : menurut saya hal tersebut masih kurang baik dilakukan sih kak\n"
     ]
    }
   ],
   "source": [
    "sample_text = '@jonijon menurut saya hal tersebut masih kurang baik dilakukan sih kak'\n",
    "\n",
    "print('Before :', sample_text)\n",
    "print('After  :', remove_twitter_ig_formatting(sample_text))"
   ]
  },
  {
   "cell_type": "code",
   "execution_count": 324,
   "metadata": {},
   "outputs": [],
   "source": [
    "def remove_repeating_characters(text):\n",
    "    return ''.join(''.join(s)[:1] for _, s in itertools.groupby(text))"
   ]
  },
  {
   "cell_type": "code",
   "execution_count": 325,
   "metadata": {},
   "outputs": [
    {
     "name": "stdout",
     "output_type": "stream",
     "text": [
      "Before : heyyyyyyyyyyyyyyyyyyyy kenapa tadi?\n",
      "After  : hey kenapa tadi?\n"
     ]
    }
   ],
   "source": [
    "sample_text = 'heyyyyyyyyyyyyyyyyyyyy kenapa tadi?'\n",
    "\n",
    "print('Before :', sample_text)\n",
    "print('After  :', remove_repeating_characters(sample_text))"
   ]
  },
  {
   "attachments": {},
   "cell_type": "markdown",
   "metadata": {},
   "source": [
    "# Define Remove Stopwords"
   ]
  },
  {
   "cell_type": "code",
   "execution_count": null,
   "metadata": {},
   "outputs": [],
   "source": [
    "def load_stopwords(stopwords_file=STOPWORDS_FILE):\n",
    "    \"\"\"\n",
    "    Loads the stopwords from the stopwords file\n",
    "    \n",
    "    Args:\n",
    "        stopwords_file (string): path to the stopwords file\n",
    "    Returns:\n",
    "        stopwords (list): list of stopwords\n",
    "    \"\"\"\n",
    "    with open(stopwords_file, 'r') as f:\n",
    "        stopwords = []\n",
    "        reader = csv.reader(f)\n",
    "        for row in reader:\n",
    "            stopwords.append(row[0])\n",
    "        \n",
    "        return stopwords\n",
    "\n",
    "STOPWORDS = load_stopwords(STOPWORDS_FILE)"
   ]
  },
  {
   "cell_type": "code",
   "execution_count": null,
   "metadata": {},
   "outputs": [
    {
     "data": {
      "text/plain": [
       "['ada', 'adalah', 'adanya', 'adapun', 'agak']"
      ]
     },
     "execution_count": 305,
     "metadata": {},
     "output_type": "execute_result"
    }
   ],
   "source": [
    "STOPWORDS[:5]"
   ]
  },
  {
   "cell_type": "code",
   "execution_count": null,
   "metadata": {},
   "outputs": [],
   "source": [
    "def remove_stopwords(sentence, stopwords=STOPWORDS):\n",
    "    \"\"\"\n",
    "    Removes a list of stopwords\n",
    "    \n",
    "    Args:\n",
    "        sentence (string): sentence to remove the stopwords from\n",
    "        stopwords (list): list of stopwords to remove from the sentence\n",
    "        \n",
    "    Returns:\n",
    "        sentence (string): lowercase sentence without the stopwords\n",
    "    \"\"\"\n",
    "    sentence = sentence.lower()\n",
    "\n",
    "    words = sentence.split()\n",
    "    no_words = [w for w in words if w not in stopwords]\n",
    "    sentence = \" \".join(no_words)\n",
    "\n",
    "    return sentence"
   ]
  },
  {
   "cell_type": "code",
   "execution_count": null,
   "metadata": {},
   "outputs": [],
   "source": [
    "factory = StemmerFactory()\n",
    "stemmer = factory.create_stemmer()\n",
    "\n",
    "def stemming(sentence, stemmer=stemmer):\n",
    "    \"\"\"\n",
    "    Stems a sentence\n",
    "    \n",
    "    Args:\n",
    "        sentence (string): sentence to stem\n",
    "        \n",
    "    Returns:\n",
    "        sentence (string): stemmed sentence\n",
    "    \"\"\"\n",
    "\n",
    "    return stemmer.stem(sentence)"
   ]
  },
  {
   "cell_type": "code",
   "execution_count": null,
   "metadata": {},
   "outputs": [],
   "source": [
    "def preprocess_text(text):\n",
    "    transformed_text = text.lower()\n",
    "    transformed_text = remove_newline(transformed_text)\n",
    "    transformed_text = remove_url(transformed_text)\n",
    "    transformed_text = remove_twitter_ig_formatting(transformed_text)\n",
    "    transformed_text = remove_kaskus_formatting(transformed_text)\n",
    "    transformed_text = translate_emoticon(transformed_text)\n",
    "    transformed_text = transformed_text.lower()\n",
    "    transformed_text = tokenize_text(transformed_text)\n",
    "    transformed_text = transform_slang_words(transformed_text)\n",
    "    transformed_text = remove_repeating_characters(transformed_text)\n",
    "    transformed_text = transform_slang_words(transformed_text)\n",
    "    transformed_text = remove_non_alphabet(transformed_text)\n",
    "    transformed_text = remove_excessive_whitespace(transformed_text)\n",
    "    transformed_text = transformed_text.lower().strip()\n",
    "    transformed_text = remove_stopwords(transformed_text)\n",
    "    transformed_text = stemming(transformed_text)\n",
    "    return transformed_text"
   ]
  },
  {
   "cell_type": "code",
   "execution_count": 309,
   "metadata": {},
   "outputs": [
    {
     "name": "stdout",
     "output_type": "stream",
     "text": [
      "woi anjing bodoh provinsi ngerusak ngebakar gereja jatim provinsi lumbung nasbung jatim provinsi hasil gembong teroris jateng lumbung nasbung jateng ngarang stereotip piliah pilih bangsat pecun\n"
     ]
    }
   ],
   "source": [
    "text = \"[QUOTE=jessepinkman16;5a50ac34d89b093f368b456e]jabar emng propinsi barokah :lehuga[/QUOTE]\\n\\nWOI, ANJING GOBLOK\\nPROPINSI YANG PALING BANYAK NGERUSAK DAN NGEBAKAR GEREJA ITU JATIM, GAK LU SEBUT PROPINSI LUMBUNG NASBUNG TUH JATIM?\\nPROPINSI PENGHASIL GEMBONG TERORIS TERBANYAK ITU JATENG, GAK LU SEBUT LUMBUNG NASBUNG TUH JATENG?\\nNGARANG STEREOTIP KOK PILIAH PILIH?\\nBANGGSAT LU PECUN\"\n",
    "\n",
    "print(preprocess_text(text))"
   ]
  },
  {
   "attachments": {},
   "cell_type": "markdown",
   "metadata": {},
   "source": [
    "# Load Train and Test Data"
   ]
  },
  {
   "cell_type": "code",
   "execution_count": 317,
   "metadata": {},
   "outputs": [],
   "source": [
    "def parse_data_from_file(filename):\n",
    "    \"\"\"\n",
    "    Extracts sentences and labels from a CSV file\n",
    "    \n",
    "    Args:\n",
    "        filename (string): path to the CSV file\n",
    "    \n",
    "    Returns:\n",
    "        sentences, labels (list of string, list of string): tuple containing lists of sentences and labels\n",
    "    \"\"\"\n",
    "    sentences = []\n",
    "    labels = []\n",
    "    with open(filename, 'r', encoding=\"utf8\") as csvfile:\n",
    "        reader = csv.reader(csvfile, delimiter=',')\n",
    "        next(reader)\n",
    "        for row in reader:\n",
    "            toxicity = int(row[2]) + int(row[3]) + int(row[4]) + int(row[5])\n",
    "            if toxicity > 0:\n",
    "                labels.append(1)\n",
    "            else:\n",
    "                labels.append(0)\n",
    "            sentence = preprocess_text(row[0])\n",
    "            sentences.append(sentence)\n",
    "\n",
    "    return sentences, np.array(labels)"
   ]
  },
  {
   "cell_type": "code",
   "execution_count": 318,
   "metadata": {},
   "outputs": [],
   "source": [
    "train_sentences, train_labels = parse_data_from_file(TRAIN_FILE)\n",
    "test_sentences, test_labels = parse_data_from_file(TEST_FILE)"
   ]
  },
  {
   "cell_type": "code",
   "execution_count": 359,
   "metadata": {},
   "outputs": [
    {
     "name": "stdout",
     "output_type": "stream",
     "text": [
      "woi anjing bodoh provinsi ngerusak ngebakar gereja jatim provinsi lumbung nasbung jatim provinsi hasil gembong teroris jateng lumbung nasbung jateng ngarang stereotip piliah pilih bangsat pecun\n",
      "1\n",
      "spanduk prof video orasi buku lainlain sngat heran rkyat tolol jls niat hizbut tahrir tega khilafah ganti negara satu republik indonesia kilah tega khilafah munafik apa khilafah\n",
      "1\n",
      "No. of sentences in the training set: 6995\n",
      "No. of sentences in the test set: 778\n",
      "Shape of the labels in the training set: (6995,)\n",
      "Shape of the labels in the test set: (778,)\n"
     ]
    }
   ],
   "source": [
    "print(train_sentences[0])\n",
    "print(train_labels[0])\n",
    "\n",
    "print(test_sentences[0])\n",
    "print(test_labels[0])\n",
    "\n",
    "# number of sentences in the training set\n",
    "print(f\"No. of sentences in the training set: {len(train_sentences)}\")\n",
    "\n",
    "# number of sentences in the test set\n",
    "print(f\"No. of sentences in the test set: {len(test_sentences)}\")\n",
    "\n",
    "# shape of the labels in the training set\n",
    "print(f\"Shape of the labels in the training set: {train_labels.shape}\")\n",
    "\n",
    "# shape of the labels in the test set\n",
    "print(f\"Shape of the labels in the test set: {test_labels.shape}\")\n"
   ]
  },
  {
   "attachments": {},
   "cell_type": "markdown",
   "metadata": {},
   "source": [
    "# Tokenization - Sequences and Padding"
   ]
  },
  {
   "cell_type": "code",
   "execution_count": 320,
   "metadata": {},
   "outputs": [],
   "source": [
    "def fit_tokenizer(train_sentences, num_words, oov_token):\n",
    "    \"\"\"\n",
    "    Instantiates the Tokenizer class on the training sentences\n",
    "    \n",
    "    Args:\n",
    "        train_sentences (list of string): lower-cased sentences without stopwords to be used for training\n",
    "        num_words (int) - number of words to keep when tokenizing\n",
    "        oov_token (string) - symbol for the out-of-vocabulary token\n",
    "    \n",
    "    Returns:\n",
    "        tokenizer (object): an instance of the Tokenizer class containing the word-index dictionary\n",
    "    \"\"\"\n",
    "    \n",
    "    ### START CODE HERE\n",
    "    \n",
    "    # Instantiate the Tokenizer class, passing in the correct values for num_words and oov_token\n",
    "    tokenizer = Tokenizer(num_words=num_words, oov_token=oov_token)\n",
    "    \n",
    "    # Fit the tokenizer to the training sentences\n",
    "    tokenizer.fit_on_texts(train_sentences)\n",
    "    \n",
    "    ### END CODE HERE\n",
    "    \n",
    "    return tokenizer"
   ]
  },
  {
   "cell_type": "code",
   "execution_count": 358,
   "metadata": {},
   "outputs": [
    {
     "name": "stdout",
     "output_type": "stream",
     "text": [
      "Vocabulary contains 19767 words\n",
      "\n",
      "<OOV> token included in vocabulary\n"
     ]
    }
   ],
   "source": [
    "# Test function\n",
    "tokenizer = fit_tokenizer(train_sentences, NUM_WORDS, OOV_TOKEN)\n",
    "word_index = tokenizer.word_index\n",
    "\n",
    "print(f\"Vocabulary contains {len(word_index)} words\\n\")\n",
    "print(\"<OOV> token included in vocabulary\" if \"<OOV>\" in word_index else \"<OOV> token NOT included in vocabulary\")"
   ]
  },
  {
   "cell_type": "code",
   "execution_count": 330,
   "metadata": {},
   "outputs": [],
   "source": [
    "def seq_and_pad(sentences, tokenizer, padding, maxlen):\n",
    "    \"\"\"\n",
    "    Generates an array of token sequences and pads them to the same length\n",
    "    \n",
    "    Args:\n",
    "        sentences (list of string): list of sentences to tokenize and pad\n",
    "        tokenizer (object): Tokenizer instance containing the word-index dictionary\n",
    "        padding (string): type of padding to use\n",
    "        maxlen (int): maximum length of the token sequence\n",
    "    \n",
    "    Returns:\n",
    "        padded_sequences (array of int): tokenized sentences padded to the same length\n",
    "    \"\"\" \n",
    "    \n",
    "    ### START CODE HERE\n",
    "       \n",
    "    # Convert sentences to sequences\n",
    "    sequences = tokenizer.texts_to_sequences(sentences)\n",
    "    \n",
    "    # Pad the sequences using the correct padding and maxlen\n",
    "    padded_sequences = pad_sequences(sequences, padding=padding, maxlen=maxlen)\n",
    "    \n",
    "    ### END CODE HERE\n",
    "    \n",
    "    return padded_sequences"
   ]
  },
  {
   "cell_type": "code",
   "execution_count": 357,
   "metadata": {},
   "outputs": [
    {
     "name": "stdout",
     "output_type": "stream",
     "text": [
      "Padded training sequences have shape: (6995, 100)\n",
      "\n",
      "Padded validation sequences have shape: (778, 100)\n"
     ]
    }
   ],
   "source": [
    "# Test your function\n",
    "train_padded_seq = seq_and_pad(train_sentences, tokenizer, PADDING, MAXLEN)\n",
    "test_padded_seq = seq_and_pad(test_sentences, tokenizer, PADDING, MAXLEN)\n",
    "\n",
    "print(f\"Padded training sequences have shape: {train_padded_seq.shape}\\n\")\n",
    "print(f\"Padded validation sequences have shape: {test_padded_seq.shape}\")"
   ]
  },
  {
   "attachments": {},
   "cell_type": "markdown",
   "metadata": {},
   "source": [
    "# Create Model"
   ]
  },
  {
   "cell_type": "code",
   "execution_count": 371,
   "metadata": {},
   "outputs": [],
   "source": [
    "# model\n",
    "def create_model(num_words, embedding_dim, maxlen):\n",
    "    \"\"\"\n",
    "    Creates a text classifier model\n",
    "    \n",
    "    Args:\n",
    "        num_words (int): size of the vocabulary for the Embedding layer input\n",
    "        embedding_dim (int): dimensionality of the Embedding layer output\n",
    "        maxlen (int): length of the input sequences\n",
    "    \n",
    "    Returns:\n",
    "        model (tf.keras Model): the text classifier model\n",
    "    \"\"\"\n",
    "    \n",
    "    tf.random.set_seed(123)\n",
    "    \n",
    "    ### START CODE HERE\n",
    "    \n",
    "    model = tf.keras.Sequential([ \n",
    "        tf.keras.layers.Embedding(num_words, embedding_dim, input_length=maxlen),\n",
    "        tf.keras.layers.GlobalAveragePooling1D(),\n",
    "        tf.keras.layers.Dense(128, activation=\"relu\"),\n",
    "        tf.keras.layers.Dense(20, activation=\"relu\"),\n",
    "        tf.keras.layers.Dropout(0.5),\n",
    "        tf.keras.layers.Dense(1, activation=\"sigmoid\")\n",
    "    ])\n",
    "    \n",
    "    model.compile(loss=tf.keras.losses.BinaryCrossentropy(),\n",
    "                  optimizer=tf.keras.optimizers.Adam(),\n",
    "                  metrics=['accuracy', tf.keras.metrics.Precision(), tf.keras.metrics.Recall()]) \n",
    "\n",
    "    ### END CODE HERE\n",
    "\n",
    "    return model"
   ]
  },
  {
   "cell_type": "code",
   "execution_count": 373,
   "metadata": {},
   "outputs": [
    {
     "name": "stdout",
     "output_type": "stream",
     "text": [
      "Epoch 1/10\n",
      "219/219 [==============================] - 7s 20ms/step - loss: 0.6738 - accuracy: 0.5843 - precision_14: 0.5788 - recall_14: 0.9547 - val_loss: 0.6299 - val_accuracy: 0.7789 - val_precision_14: 0.8571 - val_recall_14: 0.7222\n",
      "Epoch 2/10\n",
      "219/219 [==============================] - 3s 14ms/step - loss: 0.4692 - accuracy: 0.7930 - precision_14: 0.7858 - recall_14: 0.8682 - val_loss: 0.4091 - val_accuracy: 0.8162 - val_precision_14: 0.8482 - val_recall_14: 0.8148\n",
      "Epoch 3/10\n",
      "219/219 [==============================] - 3s 13ms/step - loss: 0.3058 - accuracy: 0.8875 - precision_14: 0.8935 - recall_14: 0.9079 - val_loss: 0.4020 - val_accuracy: 0.8098 - val_precision_14: 0.8227 - val_recall_14: 0.8380\n",
      "Epoch 4/10\n",
      "219/219 [==============================] - 3s 12ms/step - loss: 0.2231 - accuracy: 0.9255 - precision_14: 0.9307 - recall_14: 0.9371 - val_loss: 0.4297 - val_accuracy: 0.8149 - val_precision_14: 0.8412 - val_recall_14: 0.8218\n",
      "Epoch 5/10\n",
      "219/219 [==============================] - 2s 11ms/step - loss: 0.1701 - accuracy: 0.9464 - precision_14: 0.9492 - recall_14: 0.9557 - val_loss: 0.4904 - val_accuracy: 0.8098 - val_precision_14: 0.7946 - val_recall_14: 0.8866\n",
      "Epoch 6/10\n",
      "219/219 [==============================] - 3s 12ms/step - loss: 0.1387 - accuracy: 0.9583 - precision_14: 0.9600 - recall_14: 0.9659 - val_loss: 0.5109 - val_accuracy: 0.8085 - val_precision_14: 0.8329 - val_recall_14: 0.8194\n",
      "Epoch 7/10\n",
      "219/219 [==============================] - 3s 12ms/step - loss: 0.1056 - accuracy: 0.9723 - precision_14: 0.9751 - recall_14: 0.9756 - val_loss: 0.5841 - val_accuracy: 0.8046 - val_precision_14: 0.8111 - val_recall_14: 0.8449\n",
      "Epoch 8/10\n",
      "219/219 [==============================] - 2s 11ms/step - loss: 0.0807 - accuracy: 0.9796 - precision_14: 0.9812 - recall_14: 0.9824 - val_loss: 0.6632 - val_accuracy: 0.7956 - val_precision_14: 0.7850 - val_recall_14: 0.8704\n",
      "Epoch 9/10\n",
      "219/219 [==============================] - 3s 12ms/step - loss: 0.0665 - accuracy: 0.9850 - precision_14: 0.9868 - recall_14: 0.9865 - val_loss: 0.6929 - val_accuracy: 0.7918 - val_precision_14: 0.8140 - val_recall_14: 0.8102\n",
      "Epoch 10/10\n",
      "219/219 [==============================] - 3s 14ms/step - loss: 0.0572 - accuracy: 0.9891 - precision_14: 0.9896 - recall_14: 0.9911 - val_loss: 0.7726 - val_accuracy: 0.7905 - val_precision_14: 0.7868 - val_recall_14: 0.8542\n"
     ]
    }
   ],
   "source": [
    "model = create_model(NUM_WORDS, EMBEDDING_DIM, MAXLEN)\n",
    "\n",
    "history = model.fit(train_padded_seq, train_labels, epochs=10, validation_data=(test_padded_seq, test_labels))"
   ]
  },
  {
   "cell_type": "code",
   "execution_count": 343,
   "metadata": {},
   "outputs": [],
   "source": [
    "# model_2\n",
    "def create_model(num_words, embedding_dim, maxlen):\n",
    "    \"\"\"\n",
    "    Creates a text classifier model\n",
    "    \n",
    "    Args:\n",
    "        num_words (int): size of the vocabulary for the Embedding layer input\n",
    "        embedding_dim (int): dimensionality of the Embedding layer output\n",
    "        maxlen (int): length of the input sequences\n",
    "    \n",
    "    Returns:\n",
    "        model (tf.keras Model): the text classifier model\n",
    "    \"\"\"\n",
    "    \n",
    "    tf.random.set_seed(123)\n",
    "    \n",
    "    ### START CODE HERE\n",
    "    \n",
    "    model = tf.keras.Sequential([ \n",
    "        tf.keras.layers.Embedding(num_words, embedding_dim, input_length=maxlen),\n",
    "        tf.keras.layers.Conv1D(filters=128, kernel_size=7, activation=\"relu\"),\n",
    "        tf.keras.layers.MaxPooling1D(),\n",
    "        tf.keras.layers.Bidirectional(tf.keras.layers.LSTM(128)),\n",
    "        tf.keras.layers.Dense(64, activation=\"relu\"),\n",
    "        tf.keras.layers.Dropout(0.5),\n",
    "        tf.keras.layers.Dense(20, activation=\"relu\"),\n",
    "        tf.keras.layers.Dense(1, activation=\"sigmoid\")\n",
    "    ])\n",
    "    \n",
    "    model.compile(loss=tf.keras.losses.BinaryCrossentropy(),\n",
    "                  optimizer=tf.keras.optimizers.Adam(),\n",
    "                  metrics=['accuracy']) \n",
    "\n",
    "    ### END CODE HERE\n",
    "\n",
    "    return model"
   ]
  },
  {
   "cell_type": "code",
   "execution_count": 347,
   "metadata": {},
   "outputs": [
    {
     "name": "stdout",
     "output_type": "stream",
     "text": [
      "Epoch 1/50\n",
      "219/219 [==============================] - 26s 69ms/step - loss: 0.5009 - accuracy: 0.7351 - val_loss: 0.4417 - val_accuracy: 0.7943\n",
      "Epoch 2/50\n",
      "219/219 [==============================] - 17s 76ms/step - loss: 0.2543 - accuracy: 0.8972 - val_loss: 0.4306 - val_accuracy: 0.7931\n",
      "Epoch 3/50\n",
      "219/219 [==============================] - 13s 57ms/step - loss: 0.1277 - accuracy: 0.9544 - val_loss: 0.5841 - val_accuracy: 0.7815\n",
      "Epoch 4/50\n",
      "219/219 [==============================] - 12s 55ms/step - loss: 0.0568 - accuracy: 0.9826 - val_loss: 0.8276 - val_accuracy: 0.7815\n",
      "Epoch 5/50\n",
      "219/219 [==============================] - 13s 61ms/step - loss: 0.0281 - accuracy: 0.9924 - val_loss: 0.9392 - val_accuracy: 0.7828\n",
      "Epoch 6/50\n",
      "219/219 [==============================] - 12s 54ms/step - loss: 0.0162 - accuracy: 0.9967 - val_loss: 1.0828 - val_accuracy: 0.7866\n",
      "Epoch 7/50\n",
      "219/219 [==============================] - 13s 62ms/step - loss: 0.0152 - accuracy: 0.9964 - val_loss: 1.0313 - val_accuracy: 0.7802\n",
      "Epoch 8/50\n",
      "219/219 [==============================] - 14s 64ms/step - loss: 0.0098 - accuracy: 0.9974 - val_loss: 1.1060 - val_accuracy: 0.7635\n",
      "Epoch 9/50\n",
      "219/219 [==============================] - 15s 68ms/step - loss: 0.0097 - accuracy: 0.9973 - val_loss: 1.3821 - val_accuracy: 0.7725\n",
      "Epoch 10/50\n",
      "219/219 [==============================] - 14s 62ms/step - loss: 0.0069 - accuracy: 0.9979 - val_loss: 1.2865 - val_accuracy: 0.7571\n",
      "Epoch 11/50\n",
      "219/219 [==============================] - 14s 64ms/step - loss: 0.0050 - accuracy: 0.9976 - val_loss: 1.5177 - val_accuracy: 0.7584\n",
      "Epoch 12/50\n",
      "219/219 [==============================] - 14s 62ms/step - loss: 0.0042 - accuracy: 0.9977 - val_loss: 1.7715 - val_accuracy: 0.7609\n",
      "Epoch 13/50\n",
      "219/219 [==============================] - 13s 58ms/step - loss: 0.0033 - accuracy: 0.9979 - val_loss: 1.7056 - val_accuracy: 0.7609\n",
      "Epoch 14/50\n",
      "219/219 [==============================] - 14s 62ms/step - loss: 0.0030 - accuracy: 0.9981 - val_loss: 1.7950 - val_accuracy: 0.7519\n",
      "Epoch 15/50\n",
      "219/219 [==============================] - 14s 64ms/step - loss: 0.0074 - accuracy: 0.9967 - val_loss: 1.5756 - val_accuracy: 0.7481\n",
      "Epoch 16/50\n",
      "219/219 [==============================] - 13s 61ms/step - loss: 0.0367 - accuracy: 0.9871 - val_loss: 1.0691 - val_accuracy: 0.7725\n",
      "Epoch 17/50\n",
      "219/219 [==============================] - 18s 82ms/step - loss: 0.0215 - accuracy: 0.9930 - val_loss: 1.3217 - val_accuracy: 0.7532\n",
      "Epoch 18/50\n",
      "219/219 [==============================] - 16s 71ms/step - loss: 0.0096 - accuracy: 0.9960 - val_loss: 1.5353 - val_accuracy: 0.7481\n",
      "Epoch 19/50\n",
      "219/219 [==============================] - 15s 68ms/step - loss: 0.0053 - accuracy: 0.9973 - val_loss: 1.5759 - val_accuracy: 0.7494\n",
      "Epoch 20/50\n",
      "219/219 [==============================] - 14s 65ms/step - loss: 0.0033 - accuracy: 0.9979 - val_loss: 1.7465 - val_accuracy: 0.7494\n",
      "Epoch 21/50\n",
      "188/219 [========================>.....] - ETA: 1s - loss: 0.0029 - accuracy: 0.9983"
     ]
    },
    {
     "ename": "KeyboardInterrupt",
     "evalue": "",
     "output_type": "error",
     "traceback": [
      "\u001b[1;31m---------------------------------------------------------------------------\u001b[0m",
      "\u001b[1;31mKeyboardInterrupt\u001b[0m                         Traceback (most recent call last)",
      "Cell \u001b[1;32mIn[347], line 3\u001b[0m\n\u001b[0;32m      1\u001b[0m model_2 \u001b[39m=\u001b[39m create_model(NUM_WORDS, EMBEDDING_DIM, MAXLEN)\n\u001b[1;32m----> 3\u001b[0m history_2 \u001b[39m=\u001b[39m model_2\u001b[39m.\u001b[39;49mfit(train_padded_seq, train_labels, epochs\u001b[39m=\u001b[39;49m\u001b[39m50\u001b[39;49m, validation_data\u001b[39m=\u001b[39;49m(test_padded_seq, test_labels))\n",
      "File \u001b[1;32mc:\\Users\\Dany\\AppData\\Local\\Programs\\Python\\Python311\\Lib\\site-packages\\keras\\utils\\traceback_utils.py:65\u001b[0m, in \u001b[0;36mfilter_traceback.<locals>.error_handler\u001b[1;34m(*args, **kwargs)\u001b[0m\n\u001b[0;32m     63\u001b[0m filtered_tb \u001b[39m=\u001b[39m \u001b[39mNone\u001b[39;00m\n\u001b[0;32m     64\u001b[0m \u001b[39mtry\u001b[39;00m:\n\u001b[1;32m---> 65\u001b[0m     \u001b[39mreturn\u001b[39;00m fn(\u001b[39m*\u001b[39;49margs, \u001b[39m*\u001b[39;49m\u001b[39m*\u001b[39;49mkwargs)\n\u001b[0;32m     66\u001b[0m \u001b[39mexcept\u001b[39;00m \u001b[39mException\u001b[39;00m \u001b[39mas\u001b[39;00m e:\n\u001b[0;32m     67\u001b[0m     filtered_tb \u001b[39m=\u001b[39m _process_traceback_frames(e\u001b[39m.\u001b[39m__traceback__)\n",
      "File \u001b[1;32mc:\\Users\\Dany\\AppData\\Local\\Programs\\Python\\Python311\\Lib\\site-packages\\keras\\engine\\training.py:1685\u001b[0m, in \u001b[0;36mModel.fit\u001b[1;34m(self, x, y, batch_size, epochs, verbose, callbacks, validation_split, validation_data, shuffle, class_weight, sample_weight, initial_epoch, steps_per_epoch, validation_steps, validation_batch_size, validation_freq, max_queue_size, workers, use_multiprocessing)\u001b[0m\n\u001b[0;32m   1677\u001b[0m \u001b[39mwith\u001b[39;00m tf\u001b[39m.\u001b[39mprofiler\u001b[39m.\u001b[39mexperimental\u001b[39m.\u001b[39mTrace(\n\u001b[0;32m   1678\u001b[0m     \u001b[39m\"\u001b[39m\u001b[39mtrain\u001b[39m\u001b[39m\"\u001b[39m,\n\u001b[0;32m   1679\u001b[0m     epoch_num\u001b[39m=\u001b[39mepoch,\n\u001b[1;32m   (...)\u001b[0m\n\u001b[0;32m   1682\u001b[0m     _r\u001b[39m=\u001b[39m\u001b[39m1\u001b[39m,\n\u001b[0;32m   1683\u001b[0m ):\n\u001b[0;32m   1684\u001b[0m     callbacks\u001b[39m.\u001b[39mon_train_batch_begin(step)\n\u001b[1;32m-> 1685\u001b[0m     tmp_logs \u001b[39m=\u001b[39m \u001b[39mself\u001b[39;49m\u001b[39m.\u001b[39;49mtrain_function(iterator)\n\u001b[0;32m   1686\u001b[0m     \u001b[39mif\u001b[39;00m data_handler\u001b[39m.\u001b[39mshould_sync:\n\u001b[0;32m   1687\u001b[0m         context\u001b[39m.\u001b[39masync_wait()\n",
      "File \u001b[1;32mc:\\Users\\Dany\\AppData\\Local\\Programs\\Python\\Python311\\Lib\\site-packages\\tensorflow\\python\\util\\traceback_utils.py:150\u001b[0m, in \u001b[0;36mfilter_traceback.<locals>.error_handler\u001b[1;34m(*args, **kwargs)\u001b[0m\n\u001b[0;32m    148\u001b[0m filtered_tb \u001b[39m=\u001b[39m \u001b[39mNone\u001b[39;00m\n\u001b[0;32m    149\u001b[0m \u001b[39mtry\u001b[39;00m:\n\u001b[1;32m--> 150\u001b[0m   \u001b[39mreturn\u001b[39;00m fn(\u001b[39m*\u001b[39;49margs, \u001b[39m*\u001b[39;49m\u001b[39m*\u001b[39;49mkwargs)\n\u001b[0;32m    151\u001b[0m \u001b[39mexcept\u001b[39;00m \u001b[39mException\u001b[39;00m \u001b[39mas\u001b[39;00m e:\n\u001b[0;32m    152\u001b[0m   filtered_tb \u001b[39m=\u001b[39m _process_traceback_frames(e\u001b[39m.\u001b[39m__traceback__)\n",
      "File \u001b[1;32mc:\\Users\\Dany\\AppData\\Local\\Programs\\Python\\Python311\\Lib\\site-packages\\tensorflow\\python\\eager\\polymorphic_function\\polymorphic_function.py:894\u001b[0m, in \u001b[0;36mFunction.__call__\u001b[1;34m(self, *args, **kwds)\u001b[0m\n\u001b[0;32m    891\u001b[0m compiler \u001b[39m=\u001b[39m \u001b[39m\"\u001b[39m\u001b[39mxla\u001b[39m\u001b[39m\"\u001b[39m \u001b[39mif\u001b[39;00m \u001b[39mself\u001b[39m\u001b[39m.\u001b[39m_jit_compile \u001b[39melse\u001b[39;00m \u001b[39m\"\u001b[39m\u001b[39mnonXla\u001b[39m\u001b[39m\"\u001b[39m\n\u001b[0;32m    893\u001b[0m \u001b[39mwith\u001b[39;00m OptionalXlaContext(\u001b[39mself\u001b[39m\u001b[39m.\u001b[39m_jit_compile):\n\u001b[1;32m--> 894\u001b[0m   result \u001b[39m=\u001b[39m \u001b[39mself\u001b[39;49m\u001b[39m.\u001b[39;49m_call(\u001b[39m*\u001b[39;49margs, \u001b[39m*\u001b[39;49m\u001b[39m*\u001b[39;49mkwds)\n\u001b[0;32m    896\u001b[0m new_tracing_count \u001b[39m=\u001b[39m \u001b[39mself\u001b[39m\u001b[39m.\u001b[39mexperimental_get_tracing_count()\n\u001b[0;32m    897\u001b[0m without_tracing \u001b[39m=\u001b[39m (tracing_count \u001b[39m==\u001b[39m new_tracing_count)\n",
      "File \u001b[1;32mc:\\Users\\Dany\\AppData\\Local\\Programs\\Python\\Python311\\Lib\\site-packages\\tensorflow\\python\\eager\\polymorphic_function\\polymorphic_function.py:926\u001b[0m, in \u001b[0;36mFunction._call\u001b[1;34m(self, *args, **kwds)\u001b[0m\n\u001b[0;32m    923\u001b[0m   \u001b[39mself\u001b[39m\u001b[39m.\u001b[39m_lock\u001b[39m.\u001b[39mrelease()\n\u001b[0;32m    924\u001b[0m   \u001b[39m# In this case we have created variables on the first call, so we run the\u001b[39;00m\n\u001b[0;32m    925\u001b[0m   \u001b[39m# defunned version which is guaranteed to never create variables.\u001b[39;00m\n\u001b[1;32m--> 926\u001b[0m   \u001b[39mreturn\u001b[39;00m \u001b[39mself\u001b[39;49m\u001b[39m.\u001b[39;49m_no_variable_creation_fn(\u001b[39m*\u001b[39;49margs, \u001b[39m*\u001b[39;49m\u001b[39m*\u001b[39;49mkwds)  \u001b[39m# pylint: disable=not-callable\u001b[39;00m\n\u001b[0;32m    927\u001b[0m \u001b[39melif\u001b[39;00m \u001b[39mself\u001b[39m\u001b[39m.\u001b[39m_variable_creation_fn \u001b[39mis\u001b[39;00m \u001b[39mnot\u001b[39;00m \u001b[39mNone\u001b[39;00m:\n\u001b[0;32m    928\u001b[0m   \u001b[39m# Release the lock early so that multiple threads can perform the call\u001b[39;00m\n\u001b[0;32m    929\u001b[0m   \u001b[39m# in parallel.\u001b[39;00m\n\u001b[0;32m    930\u001b[0m   \u001b[39mself\u001b[39m\u001b[39m.\u001b[39m_lock\u001b[39m.\u001b[39mrelease()\n",
      "File \u001b[1;32mc:\\Users\\Dany\\AppData\\Local\\Programs\\Python\\Python311\\Lib\\site-packages\\tensorflow\\python\\eager\\polymorphic_function\\tracing_compiler.py:143\u001b[0m, in \u001b[0;36mTracingCompiler.__call__\u001b[1;34m(self, *args, **kwargs)\u001b[0m\n\u001b[0;32m    140\u001b[0m \u001b[39mwith\u001b[39;00m \u001b[39mself\u001b[39m\u001b[39m.\u001b[39m_lock:\n\u001b[0;32m    141\u001b[0m   (concrete_function,\n\u001b[0;32m    142\u001b[0m    filtered_flat_args) \u001b[39m=\u001b[39m \u001b[39mself\u001b[39m\u001b[39m.\u001b[39m_maybe_define_function(args, kwargs)\n\u001b[1;32m--> 143\u001b[0m \u001b[39mreturn\u001b[39;00m concrete_function\u001b[39m.\u001b[39;49m_call_flat(\n\u001b[0;32m    144\u001b[0m     filtered_flat_args, captured_inputs\u001b[39m=\u001b[39;49mconcrete_function\u001b[39m.\u001b[39;49mcaptured_inputs)\n",
      "File \u001b[1;32mc:\\Users\\Dany\\AppData\\Local\\Programs\\Python\\Python311\\Lib\\site-packages\\tensorflow\\python\\eager\\polymorphic_function\\monomorphic_function.py:1757\u001b[0m, in \u001b[0;36mConcreteFunction._call_flat\u001b[1;34m(self, args, captured_inputs, cancellation_manager)\u001b[0m\n\u001b[0;32m   1753\u001b[0m possible_gradient_type \u001b[39m=\u001b[39m gradients_util\u001b[39m.\u001b[39mPossibleTapeGradientTypes(args)\n\u001b[0;32m   1754\u001b[0m \u001b[39mif\u001b[39;00m (possible_gradient_type \u001b[39m==\u001b[39m gradients_util\u001b[39m.\u001b[39mPOSSIBLE_GRADIENT_TYPES_NONE\n\u001b[0;32m   1755\u001b[0m     \u001b[39mand\u001b[39;00m executing_eagerly):\n\u001b[0;32m   1756\u001b[0m   \u001b[39m# No tape is watching; skip to running the function.\u001b[39;00m\n\u001b[1;32m-> 1757\u001b[0m   \u001b[39mreturn\u001b[39;00m \u001b[39mself\u001b[39m\u001b[39m.\u001b[39m_build_call_outputs(\u001b[39mself\u001b[39;49m\u001b[39m.\u001b[39;49m_inference_function\u001b[39m.\u001b[39;49mcall(\n\u001b[0;32m   1758\u001b[0m       ctx, args, cancellation_manager\u001b[39m=\u001b[39;49mcancellation_manager))\n\u001b[0;32m   1759\u001b[0m forward_backward \u001b[39m=\u001b[39m \u001b[39mself\u001b[39m\u001b[39m.\u001b[39m_select_forward_and_backward_functions(\n\u001b[0;32m   1760\u001b[0m     args,\n\u001b[0;32m   1761\u001b[0m     possible_gradient_type,\n\u001b[0;32m   1762\u001b[0m     executing_eagerly)\n\u001b[0;32m   1763\u001b[0m forward_function, args_with_tangents \u001b[39m=\u001b[39m forward_backward\u001b[39m.\u001b[39mforward()\n",
      "File \u001b[1;32mc:\\Users\\Dany\\AppData\\Local\\Programs\\Python\\Python311\\Lib\\site-packages\\tensorflow\\python\\eager\\polymorphic_function\\monomorphic_function.py:381\u001b[0m, in \u001b[0;36m_EagerDefinedFunction.call\u001b[1;34m(self, ctx, args, cancellation_manager)\u001b[0m\n\u001b[0;32m    379\u001b[0m \u001b[39mwith\u001b[39;00m _InterpolateFunctionError(\u001b[39mself\u001b[39m):\n\u001b[0;32m    380\u001b[0m   \u001b[39mif\u001b[39;00m cancellation_manager \u001b[39mis\u001b[39;00m \u001b[39mNone\u001b[39;00m:\n\u001b[1;32m--> 381\u001b[0m     outputs \u001b[39m=\u001b[39m execute\u001b[39m.\u001b[39;49mexecute(\n\u001b[0;32m    382\u001b[0m         \u001b[39mstr\u001b[39;49m(\u001b[39mself\u001b[39;49m\u001b[39m.\u001b[39;49msignature\u001b[39m.\u001b[39;49mname),\n\u001b[0;32m    383\u001b[0m         num_outputs\u001b[39m=\u001b[39;49m\u001b[39mself\u001b[39;49m\u001b[39m.\u001b[39;49m_num_outputs,\n\u001b[0;32m    384\u001b[0m         inputs\u001b[39m=\u001b[39;49margs,\n\u001b[0;32m    385\u001b[0m         attrs\u001b[39m=\u001b[39;49mattrs,\n\u001b[0;32m    386\u001b[0m         ctx\u001b[39m=\u001b[39;49mctx)\n\u001b[0;32m    387\u001b[0m   \u001b[39melse\u001b[39;00m:\n\u001b[0;32m    388\u001b[0m     outputs \u001b[39m=\u001b[39m execute\u001b[39m.\u001b[39mexecute_with_cancellation(\n\u001b[0;32m    389\u001b[0m         \u001b[39mstr\u001b[39m(\u001b[39mself\u001b[39m\u001b[39m.\u001b[39msignature\u001b[39m.\u001b[39mname),\n\u001b[0;32m    390\u001b[0m         num_outputs\u001b[39m=\u001b[39m\u001b[39mself\u001b[39m\u001b[39m.\u001b[39m_num_outputs,\n\u001b[1;32m   (...)\u001b[0m\n\u001b[0;32m    393\u001b[0m         ctx\u001b[39m=\u001b[39mctx,\n\u001b[0;32m    394\u001b[0m         cancellation_manager\u001b[39m=\u001b[39mcancellation_manager)\n",
      "File \u001b[1;32mc:\\Users\\Dany\\AppData\\Local\\Programs\\Python\\Python311\\Lib\\site-packages\\tensorflow\\python\\eager\\execute.py:52\u001b[0m, in \u001b[0;36mquick_execute\u001b[1;34m(op_name, num_outputs, inputs, attrs, ctx, name)\u001b[0m\n\u001b[0;32m     50\u001b[0m \u001b[39mtry\u001b[39;00m:\n\u001b[0;32m     51\u001b[0m   ctx\u001b[39m.\u001b[39mensure_initialized()\n\u001b[1;32m---> 52\u001b[0m   tensors \u001b[39m=\u001b[39m pywrap_tfe\u001b[39m.\u001b[39;49mTFE_Py_Execute(ctx\u001b[39m.\u001b[39;49m_handle, device_name, op_name,\n\u001b[0;32m     53\u001b[0m                                       inputs, attrs, num_outputs)\n\u001b[0;32m     54\u001b[0m \u001b[39mexcept\u001b[39;00m core\u001b[39m.\u001b[39m_NotOkStatusException \u001b[39mas\u001b[39;00m e:\n\u001b[0;32m     55\u001b[0m   \u001b[39mif\u001b[39;00m name \u001b[39mis\u001b[39;00m \u001b[39mnot\u001b[39;00m \u001b[39mNone\u001b[39;00m:\n",
      "\u001b[1;31mKeyboardInterrupt\u001b[0m: "
     ]
    }
   ],
   "source": [
    "model_2 = create_model(NUM_WORDS, EMBEDDING_DIM, MAXLEN)\n",
    "\n",
    "history_2 = model_2.fit(train_padded_seq, train_labels, epochs=50, validation_data=(test_padded_seq, test_labels))"
   ]
  },
  {
   "cell_type": "code",
   "execution_count": 366,
   "metadata": {},
   "outputs": [],
   "source": [
    "# model_3\n",
    "def create_model(num_words, embedding_dim, maxlen):\n",
    "    \"\"\"\n",
    "    Creates a text classifier model\n",
    "    \n",
    "    Args:\n",
    "        num_words (int): size of the vocabulary for the Embedding layer input\n",
    "        embedding_dim (int): dimensionality of the Embedding layer output\n",
    "        maxlen (int): length of the input sequences\n",
    "    \n",
    "    Returns:\n",
    "        model (tf.keras Model): the text classifier model\n",
    "    \"\"\"\n",
    "    \n",
    "    tf.random.set_seed(123)\n",
    "    \n",
    "    ### START CODE HERE\n",
    "    \n",
    "    model = tf.keras.Sequential([ \n",
    "        tf.keras.layers.Embedding(num_words, embedding_dim, input_length=maxlen),\n",
    "        tf.keras.layers.GlobalAveragePooling1D(),\n",
    "        tf.keras.layers.Dense(128, activation=\"relu\", kernel_regularizer=tf.keras.regularizers.l2(0.01)),\n",
    "        tf.keras.layers.Dropout(0.5),\n",
    "        tf.keras.layers.Dense(128, activation=\"relu\", kernel_regularizer=tf.keras.regularizers.l2(0.001)),\n",
    "        tf.keras.layers.Dropout(0.5),\n",
    "        tf.keras.layers.Dense(20, activation=\"relu\"),\n",
    "        tf.keras.layers.Dense(1, activation=\"sigmoid\")\n",
    "    ])\n",
    "    \n",
    "    model.compile(loss=tf.keras.losses.BinaryCrossentropy(),\n",
    "                  optimizer=tf.keras.optimizers.Adam(0.001),\n",
    "                  metrics=['accuracy'])\n",
    "\n",
    "    ### END CODE HERE\n",
    "\n",
    "    return model"
   ]
  },
  {
   "cell_type": "code",
   "execution_count": 367,
   "metadata": {},
   "outputs": [
    {
     "name": "stdout",
     "output_type": "stream",
     "text": [
      "Epoch 1/50\n",
      "219/219 [==============================] - 5s 10ms/step - loss: 0.7924 - accuracy: 0.5605 - val_loss: 0.6959 - val_accuracy: 0.5553\n",
      "Epoch 2/50\n",
      "219/219 [==============================] - 2s 8ms/step - loss: 0.6886 - accuracy: 0.5617 - val_loss: 0.6870 - val_accuracy: 0.5553\n",
      "Epoch 3/50\n",
      "219/219 [==============================] - 2s 9ms/step - loss: 0.6567 - accuracy: 0.5994 - val_loss: 0.5531 - val_accuracy: 0.7969\n",
      "Epoch 4/50\n",
      "219/219 [==============================] - 2s 8ms/step - loss: 0.4504 - accuracy: 0.8369 - val_loss: 0.4546 - val_accuracy: 0.8098\n",
      "Epoch 5/50\n",
      "219/219 [==============================] - 2s 9ms/step - loss: 0.3285 - accuracy: 0.8942 - val_loss: 0.4698 - val_accuracy: 0.8136\n",
      "Epoch 6/50\n",
      "219/219 [==============================] - 2s 8ms/step - loss: 0.2748 - accuracy: 0.9171 - val_loss: 0.4956 - val_accuracy: 0.7982\n",
      "Epoch 7/50\n",
      "219/219 [==============================] - 2s 9ms/step - loss: 0.2294 - accuracy: 0.9387 - val_loss: 0.5119 - val_accuracy: 0.8175\n",
      "Epoch 8/50\n",
      "219/219 [==============================] - 2s 9ms/step - loss: 0.1907 - accuracy: 0.9530 - val_loss: 0.5386 - val_accuracy: 0.7892\n",
      "Epoch 9/50\n",
      "219/219 [==============================] - 2s 10ms/step - loss: 0.1667 - accuracy: 0.9611 - val_loss: 0.5463 - val_accuracy: 0.8033\n",
      "Epoch 10/50\n",
      "219/219 [==============================] - 2s 10ms/step - loss: 0.1374 - accuracy: 0.9716 - val_loss: 0.5889 - val_accuracy: 0.8021\n",
      "Epoch 11/50\n",
      "219/219 [==============================] - 2s 10ms/step - loss: 0.1311 - accuracy: 0.9724 - val_loss: 0.6559 - val_accuracy: 0.7943\n",
      "Epoch 12/50\n",
      "219/219 [==============================] - 2s 10ms/step - loss: 0.1203 - accuracy: 0.9766 - val_loss: 0.6819 - val_accuracy: 0.7956\n",
      "Epoch 13/50\n",
      "219/219 [==============================] - 2s 11ms/step - loss: 0.1053 - accuracy: 0.9826 - val_loss: 0.6713 - val_accuracy: 0.7931\n",
      "Epoch 14/50\n",
      "219/219 [==============================] - 2s 9ms/step - loss: 0.0942 - accuracy: 0.9840 - val_loss: 0.7115 - val_accuracy: 0.7931\n",
      "Epoch 15/50\n",
      "219/219 [==============================] - 2s 10ms/step - loss: 0.0847 - accuracy: 0.9884 - val_loss: 0.7052 - val_accuracy: 0.8008\n",
      "Epoch 16/50\n",
      "219/219 [==============================] - 3s 12ms/step - loss: 0.0783 - accuracy: 0.9870 - val_loss: 0.7058 - val_accuracy: 0.7918\n",
      "Epoch 17/50\n",
      "219/219 [==============================] - 3s 12ms/step - loss: 0.0727 - accuracy: 0.9906 - val_loss: 0.7682 - val_accuracy: 0.7905\n",
      "Epoch 18/50\n",
      "219/219 [==============================] - 2s 11ms/step - loss: 0.0724 - accuracy: 0.9894 - val_loss: 0.8000 - val_accuracy: 0.7943\n",
      "Epoch 19/50\n",
      "219/219 [==============================] - 2s 8ms/step - loss: 0.0736 - accuracy: 0.9874 - val_loss: 0.7707 - val_accuracy: 0.7943\n",
      "Epoch 20/50\n",
      "219/219 [==============================] - 2s 11ms/step - loss: 0.0685 - accuracy: 0.9896 - val_loss: 0.9238 - val_accuracy: 0.7789\n",
      "Epoch 21/50\n",
      "219/219 [==============================] - 2s 10ms/step - loss: 0.0670 - accuracy: 0.9891 - val_loss: 0.7741 - val_accuracy: 0.7905\n",
      "Epoch 22/50\n",
      "219/219 [==============================] - 2s 8ms/step - loss: 0.0557 - accuracy: 0.9931 - val_loss: 0.8169 - val_accuracy: 0.7815\n",
      "Epoch 23/50\n",
      "219/219 [==============================] - 3s 13ms/step - loss: 0.0593 - accuracy: 0.9917 - val_loss: 0.8197 - val_accuracy: 0.7918\n",
      "Epoch 24/50\n",
      "219/219 [==============================] - 3s 12ms/step - loss: 0.0582 - accuracy: 0.9917 - val_loss: 0.8968 - val_accuracy: 0.7905\n",
      "Epoch 25/50\n",
      "219/219 [==============================] - 2s 10ms/step - loss: 0.0500 - accuracy: 0.9941 - val_loss: 0.8491 - val_accuracy: 0.7943\n",
      "Epoch 26/50\n",
      "219/219 [==============================] - 2s 10ms/step - loss: 0.0518 - accuracy: 0.9936 - val_loss: 0.9081 - val_accuracy: 0.7918\n",
      "Epoch 27/50\n",
      "219/219 [==============================] - 3s 12ms/step - loss: 0.0514 - accuracy: 0.9940 - val_loss: 0.8684 - val_accuracy: 0.7918\n",
      "Epoch 28/50\n",
      "219/219 [==============================] - 2s 11ms/step - loss: 0.0544 - accuracy: 0.9924 - val_loss: 0.8959 - val_accuracy: 0.7918\n",
      "Epoch 29/50\n",
      "219/219 [==============================] - 3s 14ms/step - loss: 0.0513 - accuracy: 0.9937 - val_loss: 0.8902 - val_accuracy: 0.7918\n",
      "Epoch 30/50\n",
      "219/219 [==============================] - 3s 12ms/step - loss: 0.0487 - accuracy: 0.9939 - val_loss: 0.8946 - val_accuracy: 0.7918\n",
      "Epoch 31/50\n",
      "219/219 [==============================] - 2s 9ms/step - loss: 0.0493 - accuracy: 0.9930 - val_loss: 0.9235 - val_accuracy: 0.7879\n",
      "Epoch 32/50\n",
      "219/219 [==============================] - 2s 10ms/step - loss: 0.0431 - accuracy: 0.9946 - val_loss: 0.9319 - val_accuracy: 0.7905\n",
      "Epoch 33/50\n",
      "219/219 [==============================] - 2s 11ms/step - loss: 0.0420 - accuracy: 0.9954 - val_loss: 1.0238 - val_accuracy: 0.7918\n",
      "Epoch 34/50\n",
      "219/219 [==============================] - 3s 12ms/step - loss: 0.0505 - accuracy: 0.9926 - val_loss: 1.0262 - val_accuracy: 0.7879\n",
      "Epoch 35/50\n",
      "219/219 [==============================] - 2s 9ms/step - loss: 0.0413 - accuracy: 0.9949 - val_loss: 0.9180 - val_accuracy: 0.7905\n",
      "Epoch 36/50\n",
      "219/219 [==============================] - 2s 9ms/step - loss: 0.0415 - accuracy: 0.9960 - val_loss: 0.9527 - val_accuracy: 0.7866\n",
      "Epoch 37/50\n",
      "219/219 [==============================] - 2s 10ms/step - loss: 0.0416 - accuracy: 0.9953 - val_loss: 1.0442 - val_accuracy: 0.7853\n",
      "Epoch 38/50\n",
      "219/219 [==============================] - 2s 10ms/step - loss: 0.0409 - accuracy: 0.9953 - val_loss: 0.9983 - val_accuracy: 0.7853\n",
      "Epoch 39/50\n",
      "219/219 [==============================] - 2s 10ms/step - loss: 0.0436 - accuracy: 0.9943 - val_loss: 1.1223 - val_accuracy: 0.7828\n",
      "Epoch 40/50\n",
      "219/219 [==============================] - 2s 10ms/step - loss: 0.0455 - accuracy: 0.9937 - val_loss: 0.9460 - val_accuracy: 0.7866\n",
      "Epoch 41/50\n",
      "219/219 [==============================] - 2s 11ms/step - loss: 0.0391 - accuracy: 0.9946 - val_loss: 1.0442 - val_accuracy: 0.7841\n",
      "Epoch 42/50\n",
      "219/219 [==============================] - 3s 11ms/step - loss: 0.0422 - accuracy: 0.9944 - val_loss: 1.0118 - val_accuracy: 0.7789\n",
      "Epoch 43/50\n",
      "219/219 [==============================] - 3s 12ms/step - loss: 0.0401 - accuracy: 0.9947 - val_loss: 1.0220 - val_accuracy: 0.7892\n",
      "Epoch 44/50\n",
      "219/219 [==============================] - 2s 9ms/step - loss: 0.0390 - accuracy: 0.9959 - val_loss: 1.0378 - val_accuracy: 0.7789\n",
      "Epoch 45/50\n",
      "219/219 [==============================] - 2s 10ms/step - loss: 0.0354 - accuracy: 0.9959 - val_loss: 1.0455 - val_accuracy: 0.7841\n",
      "Epoch 46/50\n",
      "219/219 [==============================] - 3s 12ms/step - loss: 0.0445 - accuracy: 0.9944 - val_loss: 1.0871 - val_accuracy: 0.7879\n",
      "Epoch 47/50\n",
      "219/219 [==============================] - 3s 12ms/step - loss: 0.0399 - accuracy: 0.9939 - val_loss: 1.0790 - val_accuracy: 0.7841\n",
      "Epoch 48/50\n",
      "219/219 [==============================] - 2s 11ms/step - loss: 0.0365 - accuracy: 0.9951 - val_loss: 1.0739 - val_accuracy: 0.7943\n",
      "Epoch 49/50\n",
      "219/219 [==============================] - 2s 9ms/step - loss: 0.0469 - accuracy: 0.9929 - val_loss: 0.9583 - val_accuracy: 0.7828\n",
      "Epoch 50/50\n",
      "219/219 [==============================] - 2s 8ms/step - loss: 0.0399 - accuracy: 0.9953 - val_loss: 1.0386 - val_accuracy: 0.7905\n"
     ]
    }
   ],
   "source": [
    "model_3 = create_model(NUM_WORDS, EMBEDDING_DIM, MAXLEN)\n",
    "\n",
    "history_3 = model_3.fit(train_padded_seq, train_labels, epochs=50, validation_data=(test_padded_seq, test_labels))"
   ]
  },
  {
   "cell_type": "code",
   "execution_count": 346,
   "metadata": {},
   "outputs": [],
   "source": [
    "# model_4\n",
    "def create_model(num_words, embedding_dim, maxlen):\n",
    "    \"\"\"\n",
    "    Creates a text classifier model\n",
    "    \n",
    "    Args:\n",
    "        num_words (int): size of the vocabulary for the Embedding layer input\n",
    "        embedding_dim (int): dimensionality of the Embedding layer output\n",
    "        maxlen (int): length of the input sequences\n",
    "    \n",
    "    Returns:\n",
    "        model (tf.keras Model): the text classifier model\n",
    "    \"\"\"\n",
    "    \n",
    "    tf.random.set_seed(123)\n",
    "    \n",
    "    ### START CODE HERE\n",
    "    \n",
    "    model = tf.keras.Sequential([ \n",
    "        tf.keras.layers.Embedding(num_words, embedding_dim, input_length=maxlen),\n",
    "        tf.keras.layers.Conv1D(filters=128, kernel_size=7, activation=\"relu\"),\n",
    "        tf.keras.layers.Bidirectional(tf.keras.layers.LSTM(50)),\n",
    "        tf.keras.layers.Dense(100, activation=\"relu\"),\n",
    "        tf.keras.layers.Dense(1, activation=\"sigmoid\")\n",
    "    ])\n",
    "    \n",
    "    model.compile(loss=tf.keras.losses.BinaryCrossentropy(),\n",
    "                  optimizer=tf.keras.optimizers.Adam(),\n",
    "                  metrics=['accuracy']) \n",
    "\n",
    "    ### END CODE HERE\n",
    "\n",
    "    return model"
   ]
  },
  {
   "cell_type": "code",
   "execution_count": 15,
   "metadata": {},
   "outputs": [
    {
     "name": "stdout",
     "output_type": "stream",
     "text": [
      "Model: \"sequential\"\n",
      "_________________________________________________________________\n",
      " Layer (type)                Output Shape              Param #   \n",
      "=================================================================\n",
      " embedding (Embedding)       (None, 100, 100)          3000000   \n",
      "                                                                 \n",
      " conv1d (Conv1D)             (None, 94, 128)           89728     \n",
      "                                                                 \n",
      " bidirectional (Bidirectiona  (None, 100)              71600     \n",
      " l)                                                              \n",
      "                                                                 \n",
      " dense (Dense)               (None, 100)               10100     \n",
      "                                                                 \n",
      " dense_1 (Dense)             (None, 4)                 404       \n",
      "                                                                 \n",
      "=================================================================\n",
      "Total params: 3,171,832\n",
      "Trainable params: 3,171,832\n",
      "Non-trainable params: 0\n",
      "_________________________________________________________________\n"
     ]
    }
   ],
   "source": [
    "model_4 = create_model(NUM_WORDS, EMBEDDING_DIM, MAXLEN)\n",
    "\n",
    "model_4.summary()"
   ]
  },
  {
   "cell_type": "code",
   "execution_count": 17,
   "metadata": {},
   "outputs": [
    {
     "name": "stdout",
     "output_type": "stream",
     "text": [
      "Epoch 1/100\n",
      "219/219 [==============================] - 16s 73ms/step - loss: 0.0266 - accuracy: 0.6325 - val_loss: 0.5303 - val_accuracy: 0.4910\n",
      "Epoch 2/100\n",
      "219/219 [==============================] - 16s 73ms/step - loss: 0.0174 - accuracy: 0.6009 - val_loss: 0.5870 - val_accuracy: 0.4704\n",
      "Epoch 3/100\n",
      "219/219 [==============================] - 18s 84ms/step - loss: 0.0126 - accuracy: 0.5657 - val_loss: 0.6244 - val_accuracy: 0.5771\n",
      "Epoch 4/100\n",
      "219/219 [==============================] - 15s 70ms/step - loss: 0.0101 - accuracy: 0.7165 - val_loss: 0.6517 - val_accuracy: 0.5591\n",
      "Epoch 5/100\n",
      "219/219 [==============================] - 18s 81ms/step - loss: 0.0086 - accuracy: 0.6436 - val_loss: 0.6311 - val_accuracy: 0.5141\n",
      "Epoch 6/100\n",
      "219/219 [==============================] - 16s 75ms/step - loss: 0.0085 - accuracy: 0.7525 - val_loss: 0.6432 - val_accuracy: 0.5643\n",
      "Epoch 7/100\n",
      "219/219 [==============================] - 16s 73ms/step - loss: 0.0083 - accuracy: 0.7122 - val_loss: 0.7092 - val_accuracy: 0.5450\n",
      "Epoch 8/100\n",
      "219/219 [==============================] - 16s 73ms/step - loss: 0.0079 - accuracy: 0.7161 - val_loss: 0.7024 - val_accuracy: 0.5733\n",
      "Epoch 9/100\n",
      "219/219 [==============================] - 16s 75ms/step - loss: 0.0078 - accuracy: 0.6487 - val_loss: 0.7274 - val_accuracy: 0.6170\n",
      "Epoch 10/100\n",
      "219/219 [==============================] - 16s 72ms/step - loss: 0.0073 - accuracy: 0.7926 - val_loss: 0.7525 - val_accuracy: 0.5784\n",
      "Epoch 11/100\n",
      "219/219 [==============================] - 16s 75ms/step - loss: 0.0073 - accuracy: 0.8133 - val_loss: 0.7538 - val_accuracy: 0.6311\n",
      "Epoch 12/100\n",
      "219/219 [==============================] - 16s 73ms/step - loss: 0.0088 - accuracy: 0.7252 - val_loss: 0.7613 - val_accuracy: 0.4987\n",
      "Epoch 13/100\n",
      "219/219 [==============================] - 16s 72ms/step - loss: 0.0091 - accuracy: 0.7095 - val_loss: 0.6810 - val_accuracy: 0.4756\n",
      "Epoch 14/100\n",
      "219/219 [==============================] - 15s 71ms/step - loss: 0.0092 - accuracy: 0.6673 - val_loss: 0.6768 - val_accuracy: 0.4743\n",
      "Epoch 15/100\n",
      "219/219 [==============================] - 16s 73ms/step - loss: 0.0057 - accuracy: 0.6210 - val_loss: 0.7250 - val_accuracy: 0.4794\n",
      "Epoch 16/100\n",
      "219/219 [==============================] - 15s 69ms/step - loss: 0.0045 - accuracy: 0.5740 - val_loss: 0.8100 - val_accuracy: 0.5321\n",
      "Epoch 17/100\n",
      "219/219 [==============================] - 16s 72ms/step - loss: 0.0044 - accuracy: 0.5764 - val_loss: 0.7695 - val_accuracy: 0.4614\n",
      "Epoch 18/100\n",
      "219/219 [==============================] - 17s 77ms/step - loss: 0.0040 - accuracy: 0.5685 - val_loss: 0.7935 - val_accuracy: 0.4781\n",
      "Epoch 19/100\n",
      "219/219 [==============================] - 17s 75ms/step - loss: 0.0039 - accuracy: 0.5700 - val_loss: 0.8081 - val_accuracy: 0.4242\n",
      "Epoch 20/100\n",
      "219/219 [==============================] - 16s 75ms/step - loss: 0.0041 - accuracy: 0.4976 - val_loss: 0.8168 - val_accuracy: 0.5154\n",
      "Epoch 21/100\n",
      "219/219 [==============================] - 16s 73ms/step - loss: 0.0038 - accuracy: 0.5547 - val_loss: 0.8212 - val_accuracy: 0.4730\n",
      "Epoch 22/100\n",
      "219/219 [==============================] - 15s 66ms/step - loss: 0.0037 - accuracy: 0.5624 - val_loss: 0.8634 - val_accuracy: 0.4897\n",
      "Epoch 23/100\n",
      "219/219 [==============================] - 14s 65ms/step - loss: 0.0041 - accuracy: 0.5860 - val_loss: 0.8375 - val_accuracy: 0.4344\n",
      "Epoch 24/100\n",
      "219/219 [==============================] - 15s 66ms/step - loss: 0.0040 - accuracy: 0.5422 - val_loss: 0.8284 - val_accuracy: 0.4692\n",
      "Epoch 25/100\n",
      "219/219 [==============================] - 15s 70ms/step - loss: 0.0065 - accuracy: 0.6668 - val_loss: 0.8025 - val_accuracy: 0.5270\n",
      "Epoch 26/100\n",
      "219/219 [==============================] - 15s 69ms/step - loss: 0.0098 - accuracy: 0.5355 - val_loss: 0.7110 - val_accuracy: 0.4447\n",
      "Epoch 27/100\n",
      "219/219 [==============================] - 16s 73ms/step - loss: 0.0110 - accuracy: 0.6852 - val_loss: 0.7638 - val_accuracy: 0.5861\n",
      "Epoch 28/100\n",
      "219/219 [==============================] - 17s 77ms/step - loss: 0.0084 - accuracy: 0.5827 - val_loss: 0.7330 - val_accuracy: 0.4859\n",
      "Epoch 29/100\n",
      "219/219 [==============================] - 17s 79ms/step - loss: 0.0060 - accuracy: 0.5821 - val_loss: 0.7438 - val_accuracy: 0.4859\n",
      "Epoch 30/100\n",
      "219/219 [==============================] - 16s 72ms/step - loss: 0.0046 - accuracy: 0.6003 - val_loss: 0.7663 - val_accuracy: 0.5334\n",
      "Epoch 31/100\n",
      "219/219 [==============================] - 16s 72ms/step - loss: 0.0038 - accuracy: 0.6026 - val_loss: 0.7863 - val_accuracy: 0.5013\n",
      "Epoch 32/100\n",
      "219/219 [==============================] - 16s 72ms/step - loss: 0.0037 - accuracy: 0.5820 - val_loss: 0.8167 - val_accuracy: 0.5051\n",
      "Epoch 33/100\n",
      "219/219 [==============================] - 16s 74ms/step - loss: 0.0037 - accuracy: 0.5754 - val_loss: 0.8111 - val_accuracy: 0.5000\n",
      "Epoch 34/100\n",
      " 29/219 [==>...........................] - ETA: 14s - loss: 0.0032 - accuracy: 0.6013"
     ]
    },
    {
     "ename": "KeyboardInterrupt",
     "evalue": "",
     "output_type": "error",
     "traceback": [
      "\u001b[1;31m---------------------------------------------------------------------------\u001b[0m",
      "\u001b[1;31mKeyboardInterrupt\u001b[0m                         Traceback (most recent call last)",
      "Cell \u001b[1;32mIn[17], line 1\u001b[0m\n\u001b[1;32m----> 1\u001b[0m history_4 \u001b[39m=\u001b[39m model_4\u001b[39m.\u001b[39;49mfit(train_padded_seq, train_labels, epochs\u001b[39m=\u001b[39;49m\u001b[39m100\u001b[39;49m, validation_data\u001b[39m=\u001b[39;49m(test_padded_seq, test_labels))\n",
      "File \u001b[1;32mc:\\Users\\Dany\\AppData\\Local\\Programs\\Python\\Python311\\Lib\\site-packages\\keras\\utils\\traceback_utils.py:65\u001b[0m, in \u001b[0;36mfilter_traceback.<locals>.error_handler\u001b[1;34m(*args, **kwargs)\u001b[0m\n\u001b[0;32m     63\u001b[0m filtered_tb \u001b[39m=\u001b[39m \u001b[39mNone\u001b[39;00m\n\u001b[0;32m     64\u001b[0m \u001b[39mtry\u001b[39;00m:\n\u001b[1;32m---> 65\u001b[0m     \u001b[39mreturn\u001b[39;00m fn(\u001b[39m*\u001b[39;49margs, \u001b[39m*\u001b[39;49m\u001b[39m*\u001b[39;49mkwargs)\n\u001b[0;32m     66\u001b[0m \u001b[39mexcept\u001b[39;00m \u001b[39mException\u001b[39;00m \u001b[39mas\u001b[39;00m e:\n\u001b[0;32m     67\u001b[0m     filtered_tb \u001b[39m=\u001b[39m _process_traceback_frames(e\u001b[39m.\u001b[39m__traceback__)\n",
      "File \u001b[1;32mc:\\Users\\Dany\\AppData\\Local\\Programs\\Python\\Python311\\Lib\\site-packages\\keras\\engine\\training.py:1685\u001b[0m, in \u001b[0;36mModel.fit\u001b[1;34m(self, x, y, batch_size, epochs, verbose, callbacks, validation_split, validation_data, shuffle, class_weight, sample_weight, initial_epoch, steps_per_epoch, validation_steps, validation_batch_size, validation_freq, max_queue_size, workers, use_multiprocessing)\u001b[0m\n\u001b[0;32m   1677\u001b[0m \u001b[39mwith\u001b[39;00m tf\u001b[39m.\u001b[39mprofiler\u001b[39m.\u001b[39mexperimental\u001b[39m.\u001b[39mTrace(\n\u001b[0;32m   1678\u001b[0m     \u001b[39m\"\u001b[39m\u001b[39mtrain\u001b[39m\u001b[39m\"\u001b[39m,\n\u001b[0;32m   1679\u001b[0m     epoch_num\u001b[39m=\u001b[39mepoch,\n\u001b[1;32m   (...)\u001b[0m\n\u001b[0;32m   1682\u001b[0m     _r\u001b[39m=\u001b[39m\u001b[39m1\u001b[39m,\n\u001b[0;32m   1683\u001b[0m ):\n\u001b[0;32m   1684\u001b[0m     callbacks\u001b[39m.\u001b[39mon_train_batch_begin(step)\n\u001b[1;32m-> 1685\u001b[0m     tmp_logs \u001b[39m=\u001b[39m \u001b[39mself\u001b[39;49m\u001b[39m.\u001b[39;49mtrain_function(iterator)\n\u001b[0;32m   1686\u001b[0m     \u001b[39mif\u001b[39;00m data_handler\u001b[39m.\u001b[39mshould_sync:\n\u001b[0;32m   1687\u001b[0m         context\u001b[39m.\u001b[39masync_wait()\n",
      "File \u001b[1;32mc:\\Users\\Dany\\AppData\\Local\\Programs\\Python\\Python311\\Lib\\site-packages\\tensorflow\\python\\util\\traceback_utils.py:150\u001b[0m, in \u001b[0;36mfilter_traceback.<locals>.error_handler\u001b[1;34m(*args, **kwargs)\u001b[0m\n\u001b[0;32m    148\u001b[0m filtered_tb \u001b[39m=\u001b[39m \u001b[39mNone\u001b[39;00m\n\u001b[0;32m    149\u001b[0m \u001b[39mtry\u001b[39;00m:\n\u001b[1;32m--> 150\u001b[0m   \u001b[39mreturn\u001b[39;00m fn(\u001b[39m*\u001b[39;49margs, \u001b[39m*\u001b[39;49m\u001b[39m*\u001b[39;49mkwargs)\n\u001b[0;32m    151\u001b[0m \u001b[39mexcept\u001b[39;00m \u001b[39mException\u001b[39;00m \u001b[39mas\u001b[39;00m e:\n\u001b[0;32m    152\u001b[0m   filtered_tb \u001b[39m=\u001b[39m _process_traceback_frames(e\u001b[39m.\u001b[39m__traceback__)\n",
      "File \u001b[1;32mc:\\Users\\Dany\\AppData\\Local\\Programs\\Python\\Python311\\Lib\\site-packages\\tensorflow\\python\\eager\\polymorphic_function\\polymorphic_function.py:894\u001b[0m, in \u001b[0;36mFunction.__call__\u001b[1;34m(self, *args, **kwds)\u001b[0m\n\u001b[0;32m    891\u001b[0m compiler \u001b[39m=\u001b[39m \u001b[39m\"\u001b[39m\u001b[39mxla\u001b[39m\u001b[39m\"\u001b[39m \u001b[39mif\u001b[39;00m \u001b[39mself\u001b[39m\u001b[39m.\u001b[39m_jit_compile \u001b[39melse\u001b[39;00m \u001b[39m\"\u001b[39m\u001b[39mnonXla\u001b[39m\u001b[39m\"\u001b[39m\n\u001b[0;32m    893\u001b[0m \u001b[39mwith\u001b[39;00m OptionalXlaContext(\u001b[39mself\u001b[39m\u001b[39m.\u001b[39m_jit_compile):\n\u001b[1;32m--> 894\u001b[0m   result \u001b[39m=\u001b[39m \u001b[39mself\u001b[39;49m\u001b[39m.\u001b[39;49m_call(\u001b[39m*\u001b[39;49margs, \u001b[39m*\u001b[39;49m\u001b[39m*\u001b[39;49mkwds)\n\u001b[0;32m    896\u001b[0m new_tracing_count \u001b[39m=\u001b[39m \u001b[39mself\u001b[39m\u001b[39m.\u001b[39mexperimental_get_tracing_count()\n\u001b[0;32m    897\u001b[0m without_tracing \u001b[39m=\u001b[39m (tracing_count \u001b[39m==\u001b[39m new_tracing_count)\n",
      "File \u001b[1;32mc:\\Users\\Dany\\AppData\\Local\\Programs\\Python\\Python311\\Lib\\site-packages\\tensorflow\\python\\eager\\polymorphic_function\\polymorphic_function.py:926\u001b[0m, in \u001b[0;36mFunction._call\u001b[1;34m(self, *args, **kwds)\u001b[0m\n\u001b[0;32m    923\u001b[0m   \u001b[39mself\u001b[39m\u001b[39m.\u001b[39m_lock\u001b[39m.\u001b[39mrelease()\n\u001b[0;32m    924\u001b[0m   \u001b[39m# In this case we have created variables on the first call, so we run the\u001b[39;00m\n\u001b[0;32m    925\u001b[0m   \u001b[39m# defunned version which is guaranteed to never create variables.\u001b[39;00m\n\u001b[1;32m--> 926\u001b[0m   \u001b[39mreturn\u001b[39;00m \u001b[39mself\u001b[39;49m\u001b[39m.\u001b[39;49m_no_variable_creation_fn(\u001b[39m*\u001b[39;49margs, \u001b[39m*\u001b[39;49m\u001b[39m*\u001b[39;49mkwds)  \u001b[39m# pylint: disable=not-callable\u001b[39;00m\n\u001b[0;32m    927\u001b[0m \u001b[39melif\u001b[39;00m \u001b[39mself\u001b[39m\u001b[39m.\u001b[39m_variable_creation_fn \u001b[39mis\u001b[39;00m \u001b[39mnot\u001b[39;00m \u001b[39mNone\u001b[39;00m:\n\u001b[0;32m    928\u001b[0m   \u001b[39m# Release the lock early so that multiple threads can perform the call\u001b[39;00m\n\u001b[0;32m    929\u001b[0m   \u001b[39m# in parallel.\u001b[39;00m\n\u001b[0;32m    930\u001b[0m   \u001b[39mself\u001b[39m\u001b[39m.\u001b[39m_lock\u001b[39m.\u001b[39mrelease()\n",
      "File \u001b[1;32mc:\\Users\\Dany\\AppData\\Local\\Programs\\Python\\Python311\\Lib\\site-packages\\tensorflow\\python\\eager\\polymorphic_function\\tracing_compiler.py:143\u001b[0m, in \u001b[0;36mTracingCompiler.__call__\u001b[1;34m(self, *args, **kwargs)\u001b[0m\n\u001b[0;32m    140\u001b[0m \u001b[39mwith\u001b[39;00m \u001b[39mself\u001b[39m\u001b[39m.\u001b[39m_lock:\n\u001b[0;32m    141\u001b[0m   (concrete_function,\n\u001b[0;32m    142\u001b[0m    filtered_flat_args) \u001b[39m=\u001b[39m \u001b[39mself\u001b[39m\u001b[39m.\u001b[39m_maybe_define_function(args, kwargs)\n\u001b[1;32m--> 143\u001b[0m \u001b[39mreturn\u001b[39;00m concrete_function\u001b[39m.\u001b[39;49m_call_flat(\n\u001b[0;32m    144\u001b[0m     filtered_flat_args, captured_inputs\u001b[39m=\u001b[39;49mconcrete_function\u001b[39m.\u001b[39;49mcaptured_inputs)\n",
      "File \u001b[1;32mc:\\Users\\Dany\\AppData\\Local\\Programs\\Python\\Python311\\Lib\\site-packages\\tensorflow\\python\\eager\\polymorphic_function\\monomorphic_function.py:1757\u001b[0m, in \u001b[0;36mConcreteFunction._call_flat\u001b[1;34m(self, args, captured_inputs, cancellation_manager)\u001b[0m\n\u001b[0;32m   1753\u001b[0m possible_gradient_type \u001b[39m=\u001b[39m gradients_util\u001b[39m.\u001b[39mPossibleTapeGradientTypes(args)\n\u001b[0;32m   1754\u001b[0m \u001b[39mif\u001b[39;00m (possible_gradient_type \u001b[39m==\u001b[39m gradients_util\u001b[39m.\u001b[39mPOSSIBLE_GRADIENT_TYPES_NONE\n\u001b[0;32m   1755\u001b[0m     \u001b[39mand\u001b[39;00m executing_eagerly):\n\u001b[0;32m   1756\u001b[0m   \u001b[39m# No tape is watching; skip to running the function.\u001b[39;00m\n\u001b[1;32m-> 1757\u001b[0m   \u001b[39mreturn\u001b[39;00m \u001b[39mself\u001b[39m\u001b[39m.\u001b[39m_build_call_outputs(\u001b[39mself\u001b[39;49m\u001b[39m.\u001b[39;49m_inference_function\u001b[39m.\u001b[39;49mcall(\n\u001b[0;32m   1758\u001b[0m       ctx, args, cancellation_manager\u001b[39m=\u001b[39;49mcancellation_manager))\n\u001b[0;32m   1759\u001b[0m forward_backward \u001b[39m=\u001b[39m \u001b[39mself\u001b[39m\u001b[39m.\u001b[39m_select_forward_and_backward_functions(\n\u001b[0;32m   1760\u001b[0m     args,\n\u001b[0;32m   1761\u001b[0m     possible_gradient_type,\n\u001b[0;32m   1762\u001b[0m     executing_eagerly)\n\u001b[0;32m   1763\u001b[0m forward_function, args_with_tangents \u001b[39m=\u001b[39m forward_backward\u001b[39m.\u001b[39mforward()\n",
      "File \u001b[1;32mc:\\Users\\Dany\\AppData\\Local\\Programs\\Python\\Python311\\Lib\\site-packages\\tensorflow\\python\\eager\\polymorphic_function\\monomorphic_function.py:381\u001b[0m, in \u001b[0;36m_EagerDefinedFunction.call\u001b[1;34m(self, ctx, args, cancellation_manager)\u001b[0m\n\u001b[0;32m    379\u001b[0m \u001b[39mwith\u001b[39;00m _InterpolateFunctionError(\u001b[39mself\u001b[39m):\n\u001b[0;32m    380\u001b[0m   \u001b[39mif\u001b[39;00m cancellation_manager \u001b[39mis\u001b[39;00m \u001b[39mNone\u001b[39;00m:\n\u001b[1;32m--> 381\u001b[0m     outputs \u001b[39m=\u001b[39m execute\u001b[39m.\u001b[39;49mexecute(\n\u001b[0;32m    382\u001b[0m         \u001b[39mstr\u001b[39;49m(\u001b[39mself\u001b[39;49m\u001b[39m.\u001b[39;49msignature\u001b[39m.\u001b[39;49mname),\n\u001b[0;32m    383\u001b[0m         num_outputs\u001b[39m=\u001b[39;49m\u001b[39mself\u001b[39;49m\u001b[39m.\u001b[39;49m_num_outputs,\n\u001b[0;32m    384\u001b[0m         inputs\u001b[39m=\u001b[39;49margs,\n\u001b[0;32m    385\u001b[0m         attrs\u001b[39m=\u001b[39;49mattrs,\n\u001b[0;32m    386\u001b[0m         ctx\u001b[39m=\u001b[39;49mctx)\n\u001b[0;32m    387\u001b[0m   \u001b[39melse\u001b[39;00m:\n\u001b[0;32m    388\u001b[0m     outputs \u001b[39m=\u001b[39m execute\u001b[39m.\u001b[39mexecute_with_cancellation(\n\u001b[0;32m    389\u001b[0m         \u001b[39mstr\u001b[39m(\u001b[39mself\u001b[39m\u001b[39m.\u001b[39msignature\u001b[39m.\u001b[39mname),\n\u001b[0;32m    390\u001b[0m         num_outputs\u001b[39m=\u001b[39m\u001b[39mself\u001b[39m\u001b[39m.\u001b[39m_num_outputs,\n\u001b[1;32m   (...)\u001b[0m\n\u001b[0;32m    393\u001b[0m         ctx\u001b[39m=\u001b[39mctx,\n\u001b[0;32m    394\u001b[0m         cancellation_manager\u001b[39m=\u001b[39mcancellation_manager)\n",
      "File \u001b[1;32mc:\\Users\\Dany\\AppData\\Local\\Programs\\Python\\Python311\\Lib\\site-packages\\tensorflow\\python\\eager\\execute.py:52\u001b[0m, in \u001b[0;36mquick_execute\u001b[1;34m(op_name, num_outputs, inputs, attrs, ctx, name)\u001b[0m\n\u001b[0;32m     50\u001b[0m \u001b[39mtry\u001b[39;00m:\n\u001b[0;32m     51\u001b[0m   ctx\u001b[39m.\u001b[39mensure_initialized()\n\u001b[1;32m---> 52\u001b[0m   tensors \u001b[39m=\u001b[39m pywrap_tfe\u001b[39m.\u001b[39;49mTFE_Py_Execute(ctx\u001b[39m.\u001b[39;49m_handle, device_name, op_name,\n\u001b[0;32m     53\u001b[0m                                       inputs, attrs, num_outputs)\n\u001b[0;32m     54\u001b[0m \u001b[39mexcept\u001b[39;00m core\u001b[39m.\u001b[39m_NotOkStatusException \u001b[39mas\u001b[39;00m e:\n\u001b[0;32m     55\u001b[0m   \u001b[39mif\u001b[39;00m name \u001b[39mis\u001b[39;00m \u001b[39mnot\u001b[39;00m \u001b[39mNone\u001b[39;00m:\n",
      "\u001b[1;31mKeyboardInterrupt\u001b[0m: "
     ]
    }
   ],
   "source": [
    "history_4 = model_4.fit(train_padded_seq, train_labels, epochs=100, validation_data=(test_padded_seq, test_labels))"
   ]
  },
  {
   "attachments": {},
   "cell_type": "markdown",
   "metadata": {},
   "source": [
    "# Evaluate The Model"
   ]
  },
  {
   "cell_type": "code",
   "execution_count": 374,
   "metadata": {},
   "outputs": [
    {
     "data": {
      "image/png": "[encoded data removed]",
      "text/plain": [
       "<Figure size 640x480 with 1 Axes>"
      ]
     },
     "metadata": {},
     "output_type": "display_data"
    },
    {
     "data": {
      "image/png": "[encoded data removed]",
      "text/plain": [
       "<Figure size 640x480 with 1 Axes>"
      ]
     },
     "metadata": {},
     "output_type": "display_data"
    }
   ],
   "source": [
    "def plot_graphs(history, metric):\n",
    "    plt.plot(history.history[metric])\n",
    "    plt.plot(history.history[f'val_{metric}'])\n",
    "    plt.xlabel(\"Epochs\")\n",
    "    plt.ylabel(metric)\n",
    "    plt.legend([metric, f'val_{metric}'])\n",
    "    plt.show()\n",
    "    \n",
    "plot_graphs(history, \"accuracy\")\n",
    "plot_graphs(history, \"loss\")"
   ]
  },
  {
   "cell_type": "code",
   "execution_count": 21,
   "metadata": {},
   "outputs": [
    {
     "data": {
      "image/png": "[encoded data removed]",
      "text/plain": [
       "<Figure size 640x480 with 1 Axes>"
      ]
     },
     "metadata": {},
     "output_type": "display_data"
    },
    {
     "data": {
      "image/png": "[encoded data removed]",
      "text/plain": [
       "<Figure size 640x480 with 1 Axes>"
      ]
     },
     "metadata": {},
     "output_type": "display_data"
    }
   ],
   "source": [
    "def plot_graphs(history_2, metric):\n",
    "    plt.plot(history_2.history[metric])\n",
    "    plt.plot(history_2.history[f'val_{metric}'])\n",
    "    plt.xlabel(\"Epochs\")\n",
    "    plt.ylabel(metric)\n",
    "    plt.legend([metric, f'val_{metric}'])\n",
    "    plt.show()\n",
    "    \n",
    "plot_graphs(history_2, \"accuracy\")\n",
    "plot_graphs(history_2, \"loss\")"
   ]
  },
  {
   "cell_type": "code",
   "execution_count": 46,
   "metadata": {},
   "outputs": [
    {
     "data": {
      "image/png": "[encoded data removed]",
      "text/plain": [
       "<Figure size 640x480 with 1 Axes>"
      ]
     },
     "metadata": {},
     "output_type": "display_data"
    },
    {
     "data": {
      "image/png": "[encoded data removed]",
      "text/plain": [
       "<Figure size 640x480 with 1 Axes>"
      ]
     },
     "metadata": {},
     "output_type": "display_data"
    }
   ],
   "source": [
    "def plot_graphs(history_3, metric):\n",
    "    plt.plot(history_3.history[metric])\n",
    "    plt.plot(history_3.history[f'val_{metric}'])\n",
    "    plt.xlabel(\"Epochs\")\n",
    "    plt.ylabel(metric)\n",
    "    plt.legend([metric, f'val_{metric}'])\n",
    "    plt.show()\n",
    "    \n",
    "plot_graphs(history_3, \"accuracy\")\n",
    "plot_graphs(history_3, \"loss\")"
   ]
  },
  {
   "cell_type": "code",
   "execution_count": 18,
   "metadata": {},
   "outputs": [
    {
     "ename": "NameError",
     "evalue": "name 'history_4' is not defined",
     "output_type": "error",
     "traceback": [
      "\u001b[1;31m---------------------------------------------------------------------------\u001b[0m",
      "\u001b[1;31mNameError\u001b[0m                                 Traceback (most recent call last)",
      "Cell \u001b[1;32mIn[18], line 9\u001b[0m\n\u001b[0;32m      6\u001b[0m     plt\u001b[39m.\u001b[39mlegend([metric, \u001b[39mf\u001b[39m\u001b[39m'\u001b[39m\u001b[39mval_\u001b[39m\u001b[39m{\u001b[39;00mmetric\u001b[39m}\u001b[39;00m\u001b[39m'\u001b[39m])\n\u001b[0;32m      7\u001b[0m     plt\u001b[39m.\u001b[39mshow()\n\u001b[1;32m----> 9\u001b[0m plot_graphs(history_4, \u001b[39m\"\u001b[39m\u001b[39maccuracy\u001b[39m\u001b[39m\"\u001b[39m)\n\u001b[0;32m     10\u001b[0m plot_graphs(history_4, \u001b[39m\"\u001b[39m\u001b[39mloss\u001b[39m\u001b[39m\"\u001b[39m)\n",
      "\u001b[1;31mNameError\u001b[0m: name 'history_4' is not defined"
     ]
    }
   ],
   "source": [
    "def plot_graphs(history_4, metric):\n",
    "    plt.plot(history_4.history[metric])\n",
    "    plt.plot(history_4.history[f'val_{metric}'])\n",
    "    plt.xlabel(\"Epochs\")\n",
    "    plt.ylabel(metric)\n",
    "    plt.legend([metric, f'val_{metric}'])\n",
    "    plt.show()\n",
    "    \n",
    "plot_graphs(history_4, \"accuracy\")\n",
    "plot_graphs(history_4, \"loss\")"
   ]
  },
  {
   "attachments": {},
   "cell_type": "markdown",
   "metadata": {},
   "source": [
    "# Save The Model"
   ]
  },
  {
   "cell_type": "code",
   "execution_count": 375,
   "metadata": {},
   "outputs": [],
   "source": [
    "model.save('toxic_comment_model_var_1_v2.h5')"
   ]
  },
  {
   "attachments": {},
   "cell_type": "markdown",
   "metadata": {},
   "source": [
    "# Make Prediction"
   ]
  },
  {
   "cell_type": "code",
   "execution_count": 436,
   "metadata": {},
   "outputs": [
    {
     "name": "stdout",
     "output_type": "stream",
     "text": [
      "25/25 [==============================] - 0s 1ms/step\n"
     ]
    }
   ],
   "source": [
    "# return 1 if toxic, 0 if not\n",
    "predictions = model.predict(test_padded_seq)\n",
    "predictions = [1 if x > 0.50 else 0 for x in predictions]"
   ]
  },
  {
   "cell_type": "code",
   "execution_count": 437,
   "metadata": {},
   "outputs": [
    {
     "data": {
      "text/plain": [
       "0.2095115681233933"
      ]
     },
     "execution_count": 437,
     "metadata": {},
     "output_type": "execute_result"
    }
   ],
   "source": [
    "test_labels ^ np.array(predictions)\n",
    "sum(test_labels ^ np.array(predictions)) / len(test_labels)"
   ]
  },
  {
   "cell_type": "code",
   "execution_count": 398,
   "metadata": {},
   "outputs": [
    {
     "data": {
      "text/plain": [
       "array([0, 1, 0, 1, 0])"
      ]
     },
     "execution_count": 398,
     "metadata": {},
     "output_type": "execute_result"
    }
   ],
   "source": []
  },
  {
   "cell_type": "code",
   "execution_count": 388,
   "metadata": {},
   "outputs": [
    {
     "name": "stdout",
     "output_type": "stream",
     "text": [
      "0 [1] spanduk prof video orasi buku lainlain sngat heran rkyat tolol jls niat hizbut tahrir tega khilafah ganti negara satu republik indonesia kilah tega khilafah munafik apa khilafah\n",
      "\n",
      "\n",
      "1 [1] gy sange gatel yh tetek memeky drnjng tdr dkmr smbil telnjng bugil mntf bunda gde lebat yh bulu jembut\n",
      "\n",
      "\n",
      "2 [1] kali denger lagu enk in pngn praktekin gerakanya eh langsung afal lagu enk dngr mngkin lngsng afal lagu viral in\n",
      "\n",
      "\n",
      "3 [1] astajim kasih penghargan sri antek asing yahudi tertawa disholatin bangkeknye marah\n",
      "\n",
      "\n",
      "4 0 beda keluh langsung buly genk nya fr nya bagus juragan\n",
      "\n",
      "\n",
      "5 0 agama diangep dilupain rusak papua sebentar pisah\n",
      "\n",
      "\n",
      "6 [1] aneh anak emosi jiwa bangsat anjing kotor babi brengsek pakbis kesal shit kontol banteng sepong tok\n",
      "\n",
      "\n",
      "7 0 soe production yups tuju bodoamat tga sblh bilang pencitran fakta smnjk wali kota sederhana\n",
      "\n",
      "\n",
      "8 0 jakarta poling bijak publik p survei nasional juni juni pilih partai republik hasil takjub persen partai republik ubah konstitusi tetap kristen agama resmi nasional persen tentang jadi agama kristen agama nasional partai republik ragu ubah amerika serikat negara kristen hasil jajak dapat crostabs dukung jadi agama kristen agama resmi kuat mike huckabe persen rick pery persen ben carson persen dukung survei p temu pilih partai republik percaya panas global persen percaya teori evolusi mayoritas orang amerika identifikasi orang kristen banyak orang amerika gop republik nyaman teologi dominionist konservatif dominionism pangilan paksa teokrasi negara agama amerika agama kristen nyata agama resmi bangsa amerika atur hukum alkitab pilih partai republik semangat rangkul teologi dominionist melangar amendemen konstitusi as bebas agama salah prinsip dasar diri negara amerika dokumen diri pilih republik pilih calon anti amendemen konstitusi amerika bebas agama kalang independen demokrat henti calon bongkar klausul diri mike huckabe ben carson salah kandidat presiden partai republik lai amerika negara duduk agama kristen banding eropa orang amerika religius contoh presiden amerika selesai pidato lupa bagus bles america undang undang dasar amerika pisah fungsi agama perintah orang pisah kadang kadang sidang sidang kongres amerika pembacan doa pusat bimbing mahakuasa jalan tugas tugas uang kertas dolar amerika tulis bunyi in bagus we trust kait kepercayan amerika ada studi jangka fungsi doa pasien pasien kena sakit jantung lapor hari international herald tribune doa doa panjat orang orang kristen sehat pasien jalan operasi jantung dampak lapor pasien jalan operasi jantung kirim doa derita komplikasi sehat pasien dukung doa doa richard sloan pakar dokter universitas columbia new york usaha hubung kepercayan agama ilmu dokter guna tolak sudut pandang beda orang pasien libat riset doa enam rumah sakit bagi kelompok kelompok kirim doa kelompok doa apa paruh pasien kirim doa orang panjat doa paruh sisa orang sumbang doa limapuluh sembilan persen pasien doa derita komplikasi operasi jantung banding persen kelompok doa pasien pasien kelompok pikir sakit parah sehinga bantu doa orang orang kenal\n",
      "\n",
      "\n",
      "9 0 mbak mohon mohon renti pamer susu kya gtu qta perempuan asli malu mbak mah kya barang dipamerrin\n",
      "\n",
      "\n"
     ]
    }
   ],
   "source": [
    "i = 0\n",
    "for test_sentence in test_sentences[:10]:\n",
    "    print(i, predictions[i], test_sentence)\n",
    "    i += 1\n",
    "    print('\\n')"
   ]
  },
  {
   "attachments": {},
   "cell_type": "markdown",
   "metadata": {},
   "source": [
    "# Load Model"
   ]
  },
  {
   "cell_type": "code",
   "execution_count": 438,
   "metadata": {},
   "outputs": [],
   "source": [
    "model = tf.keras.models.load_model('toxic_comment_model_var_1_v2.h5')"
   ]
  },
  {
   "attachments": {},
   "cell_type": "markdown",
   "metadata": {},
   "source": [
    "# Save to Saved Model Format"
   ]
  },
  {
   "cell_type": "code",
   "execution_count": 5,
   "metadata": {},
   "outputs": [
    {
     "name": "stderr",
     "output_type": "stream",
     "text": [
      "WARNING:absl:Found untraced functions such as _update_step_xla while saving (showing 1 of 1). These functions will not be directly callable after loading.\n"
     ]
    },
    {
     "name": "stdout",
     "output_type": "stream",
     "text": [
      "INFO:tensorflow:Assets written to: models/toxic_comment_model_var_1_savedmodel\\assets\n"
     ]
    },
    {
     "name": "stderr",
     "output_type": "stream",
     "text": [
      "INFO:tensorflow:Assets written to: models/toxic_comment_model_var_1_savedmodel\\assets\n"
     ]
    }
   ],
   "source": [
    "\n",
    "# save to saved model format\n",
    "tf.saved_model.save(model, \"models/toxic_comment_model_var_1_savedmodel\")"
   ]
  },
  {
   "attachments": {},
   "cell_type": "markdown",
   "metadata": {},
   "source": [
    "# Save Tokenizer"
   ]
  },
  {
   "cell_type": "code",
   "execution_count": 328,
   "metadata": {},
   "outputs": [],
   "source": [
    "# saving\n",
    "with open('tokenizer.pickle', 'wb') as handle:\n",
    "    pickle.dump(tokenizer, handle, protocol=pickle.HIGHEST_PROTOCOL)"
   ]
  },
  {
   "cell_type": "code",
   "execution_count": 329,
   "metadata": {},
   "outputs": [],
   "source": [
    "#loading\n",
    "with open('tokenizer.pickle', 'rb') as handle:\n",
    "    tokenizer = pickle.load(handle)"
   ]
  },
  {
   "attachments": {},
   "cell_type": "markdown",
   "metadata": {},
   "source": [
    "# Output processed text to csv"
   ]
  },
  {
   "cell_type": "code",
   "execution_count": 440,
   "metadata": {},
   "outputs": [],
   "source": [
    "# output processed data sentences to csv\n",
    "df = pd.DataFrame({'sentence': train_sentences, 'label': train_labels})\n",
    "df.to_csv('dataset/processed_train_2.csv', index=False)\n",
    "\n",
    "df = pd.DataFrame({'sentence': test_sentences, 'label': test_labels})\n",
    "df.to_csv('dataset/processed_test_2.csv', index=False)\n"
   ]
  }
 ],
 "metadata": {
  "kernelspec": {
   "display_name": "Python 3",
   "language": "python",
   "name": "python3"
  },
  "language_info": {
   "codemirror_mode": {
    "name": "ipython",
    "version": 3
   },
   "file_extension": ".py",
   "mimetype": "text/x-python",
   "name": "python",
   "nbconvert_exporter": "python",
   "pygments_lexer": "ipython3",
   "version": "3.11.0"
  },
  "orig_nbformat": 4
 },
 "nbformat": 4,
 "nbformat_minor": 2
}
