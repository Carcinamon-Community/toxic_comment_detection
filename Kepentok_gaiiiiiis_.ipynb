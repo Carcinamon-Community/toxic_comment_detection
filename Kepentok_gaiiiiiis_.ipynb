{
  "nbformat": 4,
  "nbformat_minor": 0,
  "metadata": {
    "colab": {
      "provenance": []
    },
    "kernelspec": {
      "name": "python3",
      "display_name": "Python 3"
    },
    "language_info": {
      "name": "python"
    }
  },
  "cells": [
    {
      "cell_type": "code",
      "execution_count": 197,
      "metadata": {
        "id": "t1nPkemWDtm_"
      },
      "outputs": [],
      "source": [
        "import csv\n",
        "import tensorflow as tf\n",
        "import numpy as np\n",
        "from tensorflow.keras.preprocessing.text import Tokenizer\n",
        "from tensorflow.keras.preprocessing.sequence import pad_sequences\n",
        "from tensorflow.keras import regularizers\n",
        "import matplotlib.pyplot as plt"
      ]
    },
    {
      "cell_type": "code",
      "source": [
        "from google.colab import drive\n",
        "drive.mount('/content/drive')"
      ],
      "metadata": {
        "colab": {
          "base_uri": "https://localhost:8080/"
        },
        "id": "wLIGRaZWzpEk",
        "outputId": "17ce96bd-075c-41aa-f967-236efc9036bf"
      },
      "execution_count": 198,
      "outputs": [
        {
          "output_type": "stream",
          "name": "stdout",
          "text": [
            "Drive already mounted at /content/drive; to attempt to forcibly remount, call drive.mount(\"/content/drive\", force_remount=True).\n"
          ]
        }
      ]
    },
    {
      "cell_type": "code",
      "source": [
        "NUM_WORDS = 1000\n",
        "EMBEDDING_DIM = 100\n",
        "MAXLEN = 200\n",
        "PADDING = 'post'\n",
        "OOV_TOKEN = \"<OOV>\"\n",
        "TRAIN_FILE = \"processed_train.csv\"\n",
        "TEST_FILE = \"processed_test.csv\"\n",
        "STOPWORDS_FILE = \"stopwordbahasa.csv\"\n",
        "STOPWORDS = []\n",
        "num_classes = 4\n",
        "learning_rate = 0.001\n",
        "batch_size = 16\n",
        "num_epochs = 10"
      ],
      "metadata": {
        "id": "Le4Bq4JkDw1a"
      },
      "execution_count": 199,
      "outputs": []
    },
    {
      "cell_type": "code",
      "source": [
        "def load_stopwords(stopwords_file=STOPWORDS_FILE):\n",
        "    \"\"\"\n",
        "    Loads the stopwords from the stopwords file\n",
        "    \n",
        "    Args:\n",
        "        stopwords_file (string): path to the stopwords file\n",
        "    Returns:\n",
        "        stopwords (list): list of stopwords\n",
        "    \"\"\"\n",
        "    with open('/content/drive/MyDrive/Colab Notebooks/stopwordbahasa.csv', 'r') as f:\n",
        "        stopwords = []\n",
        "        reader = csv.reader(f)\n",
        "        for row in reader:\n",
        "            stopwords.append(row[0])\n",
        "        \n",
        "        return stopwords\n",
        "\n",
        "STOPWORDS = load_stopwords(STOPWORDS_FILE)"
      ],
      "metadata": {
        "id": "5G7xnkabgpPC"
      },
      "execution_count": 200,
      "outputs": []
    },
    {
      "cell_type": "code",
      "source": [
        "STOPWORDS[:5]"
      ],
      "metadata": {
        "colab": {
          "base_uri": "https://localhost:8080/"
        },
        "id": "ebu2npb6D5f4",
        "outputId": "0299a73d-e499-4f42-d6c5-0c5582719646"
      },
      "execution_count": 201,
      "outputs": [
        {
          "output_type": "execute_result",
          "data": {
            "text/plain": [
              "['ada', 'adalah', 'adanya', 'adapun', 'agak']"
            ]
          },
          "metadata": {},
          "execution_count": 201
        }
      ]
    },
    {
      "cell_type": "code",
      "source": [
        "def remove_stopwords(sentence, stopwords=STOPWORDS):\n",
        "    \"\"\"\n",
        "    Removes a list of stopwords\n",
        "    \n",
        "    Args:\n",
        "        sentence (string): sentence to remove the stopwords from\n",
        "        stopwords (list): list of stopwords to remove from the sentence\n",
        "        \n",
        "    Returns:\n",
        "        sentence (string): lowercase sentence without the stopwords\n",
        "    \"\"\"\n",
        "    sentence = sentence.lower()\n",
        "    words = sentence.split()\n",
        "    no_stopwords = [word for word in words if word not in stopwords]\n",
        "    sentence = \" \".join(no_stopwords)\n",
        "    return sentence"
      ],
      "metadata": {
        "id": "KQf6Z8aEEXeA"
      },
      "execution_count": 202,
      "outputs": []
    },
    {
      "cell_type": "code",
      "source": [
        "def parse_data_from_file(filename):\n",
        "    \"\"\"\n",
        "    Extracts sentences and labels from a CSV file\n",
        "    \n",
        "    Args:\n",
        "        filename (string): path to the CSV file\n",
        "    \n",
        "    Returns:\n",
        "        sentences, labels (list of string, list of string): tuple containing lists of sentences and labels\n",
        "    \"\"\"\n",
        "    sentences = []\n",
        "    labels = []\n",
        "    with open(filename, 'r', encoding=\"utf8\") as csvfile:\n",
        "        reader = csv.reader(csvfile, delimiter=',')\n",
        "        next(reader)\n",
        "        for row in reader:\n",
        "            toxicity = int(row[2]) + int(row[3]) + int(row[4]) + int(row[5])\n",
        "            if toxicity > 0:\n",
        "                labels.append(1)\n",
        "            else:\n",
        "                labels.append(0)\n",
        "            sentence = row[6]\n",
        "            sentence = remove_stopwords(sentence)\n",
        "            sentences.append(sentence)\n",
        "\n",
        "    return sentences, np.array(labels)"
      ],
      "metadata": {
        "id": "1fpxHPmjEl9J"
      },
      "execution_count": 203,
      "outputs": []
    },
    {
      "cell_type": "code",
      "source": [
        "test_sentences, test_labels = parse_data_from_file(\"/content/drive/MyDrive/Colab Notebooks/processed_test.csv\")\n",
        "train_sentences, train_labels  = parse_data_from_file(\"/content/drive/MyDrive/Colab Notebooks/processed_train.csv\")"
      ],
      "metadata": {
        "id": "CBUvbUxBEqHY"
      },
      "execution_count": 204,
      "outputs": []
    },
    {
      "cell_type": "code",
      "source": [
        "print(train_sentences[0])\n",
        "print(train_labels[0])\n",
        "\n",
        "print(test_sentences[0])\n",
        "print(test_labels[0])\n",
        "\n",
        "# number of sentences in the training set\n",
        "print(f\"No. of sentences in the training set: {len(train_sentences)}\")\n",
        "\n",
        "# number of sentences in the test set\n",
        "print(f\"No. of sentences in the test set: {len(test_sentences)}\")\n",
        "\n",
        "# shape of the labels in the training set\n",
        "print(f\"Shape of the labels in the training set: {train_labels.shape}\")\n",
        "\n",
        "# shape of the labels in the test set\n",
        "print(f\"Shape of the labels in the test set: {test_labels.shape}\")"
      ],
      "metadata": {
        "colab": {
          "base_uri": "https://localhost:8080/"
        },
        "id": "MCZnyOfrcd9i",
        "outputId": "25db7d3b-bb4c-4e19-daa9-8cc07911ec29"
      },
      "execution_count": 205,
      "outputs": [
        {
          "output_type": "stream",
          "name": "stdout",
          "text": [
            "jabar provinsi barokah nwoi anjing bodoh npropinsi ngerusak ngebakar gereja jatim provinsi lumbung nasbung jatim npropinsi penghasil gembong teroris jateng lumbung nasbung jateng ngarang stereotip piliah pilih nbangsat pecun\n",
            "1\n",
            "spanduk prof video orasi buku lainlain sngat heran rkyat tolol jls niat hizbut tahrir tegakan khilafah ganti negara kesatuan republik indonesia berkilah tegakan khilafah munafik apanya khilafah\n",
            "1\n",
            "No. of sentences in the training set: 6995\n",
            "No. of sentences in the test set: 778\n",
            "Shape of the labels in the training set: (6995,)\n",
            "Shape of the labels in the test set: (778,)\n"
          ]
        }
      ]
    },
    {
      "cell_type": "code",
      "source": [
        "def fit_tokenizer(train_sentences, num_words, oov_token):\n",
        "    \"\"\"\n",
        "    Instantiates the Tokenizer class on the training sentences\n",
        "    \n",
        "    Args:\n",
        "        train_sentences (list of string): lower-cased sentences without stopwords to be used for training\n",
        "        num_words (int) - number of words to keep when tokenizing\n",
        "        oov_token (string) - symbol for the out-of-vocabulary token\n",
        "    \n",
        "    Returns:\n",
        "        tokenizer (object): an instance of the Tokenizer class containing the word-index dictionary\n",
        "    \"\"\"\n",
        "    \n",
        "    ### START CODE HERE\n",
        "    \n",
        "    # Instantiate the Tokenizer class, passing in the correct values for num_words and oov_token\n",
        "    tokenizer = Tokenizer(num_words=num_words, oov_token=oov_token)\n",
        "    \n",
        "    # Fit the tokenizer to the training sentences\n",
        "    tokenizer.fit_on_texts(train_sentences)\n",
        "    \n",
        "    ### END CODE HERE\n",
        "    \n",
        "    return tokenizer"
      ],
      "metadata": {
        "id": "ZDvtB8EiE3kI"
      },
      "execution_count": 206,
      "outputs": []
    },
    {
      "cell_type": "code",
      "source": [
        "# Test function\n",
        "tokenizer = fit_tokenizer(train_sentences, NUM_WORDS, OOV_TOKEN)\n",
        "word_index = tokenizer.word_index\n",
        "\n",
        "print(f\"Vocabulary contains {len(word_index)} words\\n\")\n",
        "print(\"<OOV> token included in vocabulary\" if \"<OOV>\" in word_index else \"<OOV> token NOT included in vocabulary\")"
      ],
      "metadata": {
        "colab": {
          "base_uri": "https://localhost:8080/"
        },
        "id": "1ABq4iiLE-_4",
        "outputId": "0cf7a354-0729-4199-ccb1-8405ae2e2e2a"
      },
      "execution_count": 207,
      "outputs": [
        {
          "output_type": "stream",
          "name": "stdout",
          "text": [
            "Vocabulary contains 28899 words\n",
            "\n",
            "<OOV> token included in vocabulary\n"
          ]
        }
      ]
    },
    {
      "cell_type": "code",
      "source": [
        "def seq_and_pad(sentences, tokenizer, padding, maxlen):\n",
        "    \"\"\"\n",
        "    Generates an array of token sequences and pads them to the same length\n",
        "    \n",
        "    Args:\n",
        "        sentences (list of string): list of sentences to tokenize and pad\n",
        "        tokenizer (object): Tokenizer instance containing the word-index dictionary\n",
        "        padding (string): type of padding to use\n",
        "        maxlen (int): maximum length of the token sequence\n",
        "    \n",
        "    Returns:\n",
        "        padded_sequences (array of int): tokenized sentences padded to the same length\n",
        "    \"\"\" \n",
        "    \n",
        "    ### START CODE HERE\n",
        "       \n",
        "    # Convert sentences to sequences\n",
        "    sequences = tokenizer.texts_to_sequences(sentences)\n",
        "    \n",
        "    # Pad the sequences using the correct padding and maxlen\n",
        "    padded_sequences = pad_sequences(sequences, padding=padding, maxlen=maxlen)\n",
        "    \n",
        "    ### END CODE HERE\n",
        "    \n",
        "    return padded_sequences"
      ],
      "metadata": {
        "id": "fVb9uFxaFDP5"
      },
      "execution_count": 208,
      "outputs": []
    },
    {
      "cell_type": "code",
      "source": [
        "# Test your function\n",
        "train_padded_seq = seq_and_pad(train_sentences, tokenizer, PADDING, MAXLEN)\n",
        "test_padded_seq = seq_and_pad(test_sentences, tokenizer, PADDING, MAXLEN)\n",
        "\n",
        "print(f\"Padded training sequences have shape: {train_padded_seq.shape}\\n\")\n",
        "print(f\"Padded validation sequences have shape: {test_padded_seq.shape}\")"
      ],
      "metadata": {
        "colab": {
          "base_uri": "https://localhost:8080/"
        },
        "id": "XV1oZlzkFHco",
        "outputId": "cebb968c-11d0-4447-b893-bd15ce677876"
      },
      "execution_count": 209,
      "outputs": [
        {
          "output_type": "stream",
          "name": "stdout",
          "text": [
            "Padded training sequences have shape: (6995, 200)\n",
            "\n",
            "Padded validation sequences have shape: (778, 200)\n"
          ]
        }
      ]
    },
    {
      "cell_type": "code",
      "source": [
        "def create_model(num_words, embedding_dim, maxlen):\n",
        "    tf.random.set_seed(123)\n",
        "    \n",
        "    model = tf.keras.Sequential([ \n",
        "        tf.keras.layers.Embedding(num_words, embedding_dim, input_length=maxlen),\n",
        "        tf.keras.layers.GlobalAveragePooling1D(),\n",
        "        tf.keras.layers.Dense(128, activation=\"relu\", kernel_regularizer=regularizers.l2(0.01)),\n",
        "        tf.keras.layers.Dropout(0.7),\n",
        "        tf.keras.layers.Dense(128, activation=\"relu\", kernel_regularizer=regularizers.l2(0.001)),\n",
        "        tf.keras.layers.Dropout(0.5),\n",
        "        tf.keras.layers.Dense(1, activation=\"sigmoid\")  \n",
        "    ])\n",
        "    \n",
        "    model.compile(\n",
        "        loss=tf.keras.losses.BinaryCrossentropy(),\n",
        "        optimizer=tf.keras.optimizers.Adam(learning_rate=0.001),\n",
        "        metrics=['accuracy', tf.keras.metrics.Precision(), tf.keras.metrics.Recall()]\n",
        "    )\n",
        "\n",
        "    return model"
      ],
      "metadata": {
        "id": "Ids4YbANFKpK"
      },
      "execution_count": 219,
      "outputs": []
    },
    {
      "cell_type": "code",
      "source": [
        "model = create_model(NUM_WORDS, EMBEDDING_DIM, MAXLEN)\n",
        "\n",
        "history = model.fit(train_padded_seq, train_labels, epochs=50, validation_data=(test_padded_seq, test_labels))"
      ],
      "metadata": {
        "colab": {
          "base_uri": "https://localhost:8080/"
        },
        "id": "TGfeTZlOFNkI",
        "outputId": "dac5007d-7e98-4b51-e8f1-7666f2e95918"
      },
      "execution_count": 220,
      "outputs": [
        {
          "output_type": "stream",
          "name": "stdout",
          "text": [
            "Epoch 1/50\n",
            "219/219 [==============================] - 4s 12ms/step - loss: 0.9727 - accuracy: 0.5580 - precision_67: 0.5628 - recall_67: 0.9547 - val_loss: 0.7000 - val_accuracy: 0.5553 - val_precision_67: 0.5553 - val_recall_67: 1.0000\n",
            "Epoch 2/50\n",
            "219/219 [==============================] - 3s 14ms/step - loss: 0.6904 - accuracy: 0.5617 - precision_67: 0.5617 - recall_67: 1.0000 - val_loss: 0.6885 - val_accuracy: 0.5553 - val_precision_67: 0.5553 - val_recall_67: 1.0000\n",
            "Epoch 3/50\n",
            "219/219 [==============================] - 2s 9ms/step - loss: 0.6865 - accuracy: 0.5617 - precision_67: 0.5617 - recall_67: 1.0000 - val_loss: 0.6883 - val_accuracy: 0.5553 - val_precision_67: 0.5553 - val_recall_67: 1.0000\n",
            "Epoch 4/50\n",
            "219/219 [==============================] - 2s 8ms/step - loss: 0.6864 - accuracy: 0.5617 - precision_67: 0.5617 - recall_67: 1.0000 - val_loss: 0.6874 - val_accuracy: 0.5553 - val_precision_67: 0.5553 - val_recall_67: 1.0000\n",
            "Epoch 5/50\n",
            "219/219 [==============================] - 2s 10ms/step - loss: 0.6859 - accuracy: 0.5617 - precision_67: 0.5617 - recall_67: 1.0000 - val_loss: 0.6873 - val_accuracy: 0.5553 - val_precision_67: 0.5553 - val_recall_67: 1.0000\n",
            "Epoch 6/50\n",
            "219/219 [==============================] - 2s 10ms/step - loss: 0.6859 - accuracy: 0.5617 - precision_67: 0.5617 - recall_67: 1.0000 - val_loss: 0.6873 - val_accuracy: 0.5553 - val_precision_67: 0.5553 - val_recall_67: 1.0000\n",
            "Epoch 7/50\n",
            "219/219 [==============================] - 2s 8ms/step - loss: 0.6855 - accuracy: 0.5617 - precision_67: 0.5617 - recall_67: 1.0000 - val_loss: 0.6872 - val_accuracy: 0.5553 - val_precision_67: 0.5553 - val_recall_67: 1.0000\n",
            "Epoch 8/50\n",
            "219/219 [==============================] - 3s 12ms/step - loss: 0.6858 - accuracy: 0.5617 - precision_67: 0.5617 - recall_67: 1.0000 - val_loss: 0.6870 - val_accuracy: 0.5553 - val_precision_67: 0.5553 - val_recall_67: 1.0000\n",
            "Epoch 9/50\n",
            "219/219 [==============================] - 2s 11ms/step - loss: 0.6859 - accuracy: 0.5617 - precision_67: 0.5617 - recall_67: 1.0000 - val_loss: 0.6872 - val_accuracy: 0.5553 - val_precision_67: 0.5553 - val_recall_67: 1.0000\n",
            "Epoch 10/50\n",
            "219/219 [==============================] - 2s 8ms/step - loss: 0.6849 - accuracy: 0.5617 - precision_67: 0.5617 - recall_67: 1.0000 - val_loss: 0.6853 - val_accuracy: 0.5553 - val_precision_67: 0.5553 - val_recall_67: 1.0000\n",
            "Epoch 11/50\n",
            "219/219 [==============================] - 2s 8ms/step - loss: 0.6755 - accuracy: 0.5617 - precision_67: 0.5617 - recall_67: 1.0000 - val_loss: 0.6435 - val_accuracy: 0.5553 - val_precision_67: 0.5553 - val_recall_67: 1.0000\n",
            "Epoch 12/50\n",
            "219/219 [==============================] - 2s 9ms/step - loss: 0.6310 - accuracy: 0.6462 - precision_67: 0.6210 - recall_67: 0.9494 - val_loss: 0.5790 - val_accuracy: 0.7661 - val_precision_67: 0.7332 - val_recall_67: 0.9097\n",
            "Epoch 13/50\n",
            "219/219 [==============================] - 2s 8ms/step - loss: 0.5914 - accuracy: 0.7407 - precision_67: 0.7181 - recall_67: 0.8862 - val_loss: 0.5619 - val_accuracy: 0.7918 - val_precision_67: 0.8516 - val_recall_67: 0.7569\n",
            "Epoch 14/50\n",
            "219/219 [==============================] - 2s 8ms/step - loss: 0.5718 - accuracy: 0.7595 - precision_67: 0.7449 - recall_67: 0.8697 - val_loss: 0.5298 - val_accuracy: 0.8072 - val_precision_67: 0.8133 - val_recall_67: 0.8472\n",
            "Epoch 15/50\n",
            "219/219 [==============================] - 2s 10ms/step - loss: 0.5547 - accuracy: 0.7717 - precision_67: 0.7646 - recall_67: 0.8575 - val_loss: 0.5135 - val_accuracy: 0.8149 - val_precision_67: 0.8303 - val_recall_67: 0.8380\n",
            "Epoch 16/50\n",
            "219/219 [==============================] - 3s 13ms/step - loss: 0.5387 - accuracy: 0.7813 - precision_67: 0.7740 - recall_67: 0.8623 - val_loss: 0.5149 - val_accuracy: 0.7918 - val_precision_67: 0.8689 - val_recall_67: 0.7361\n",
            "Epoch 17/50\n",
            "219/219 [==============================] - 2s 8ms/step - loss: 0.5275 - accuracy: 0.7831 - precision_67: 0.7834 - recall_67: 0.8486 - val_loss: 0.4926 - val_accuracy: 0.8123 - val_precision_67: 0.8250 - val_recall_67: 0.8403\n",
            "Epoch 18/50\n",
            "219/219 [==============================] - 2s 8ms/step - loss: 0.5197 - accuracy: 0.7901 - precision_67: 0.7895 - recall_67: 0.8542 - val_loss: 0.4872 - val_accuracy: 0.8033 - val_precision_67: 0.8053 - val_recall_67: 0.8519\n",
            "Epoch 19/50\n",
            "219/219 [==============================] - 2s 9ms/step - loss: 0.5172 - accuracy: 0.7823 - precision_67: 0.7827 - recall_67: 0.8478 - val_loss: 0.4797 - val_accuracy: 0.8085 - val_precision_67: 0.8166 - val_recall_67: 0.8449\n",
            "Epoch 20/50\n",
            "219/219 [==============================] - 2s 9ms/step - loss: 0.5039 - accuracy: 0.7911 - precision_67: 0.7965 - recall_67: 0.8437 - val_loss: 0.4748 - val_accuracy: 0.8098 - val_precision_67: 0.8397 - val_recall_67: 0.8125\n",
            "Epoch 21/50\n",
            "219/219 [==============================] - 2s 10ms/step - loss: 0.5038 - accuracy: 0.7847 - precision_67: 0.7872 - recall_67: 0.8453 - val_loss: 0.4704 - val_accuracy: 0.8111 - val_precision_67: 0.8484 - val_recall_67: 0.8032\n",
            "Epoch 22/50\n",
            "219/219 [==============================] - 3s 14ms/step - loss: 0.4928 - accuracy: 0.8001 - precision_67: 0.8031 - recall_67: 0.8534 - val_loss: 0.4688 - val_accuracy: 0.8059 - val_precision_67: 0.8129 - val_recall_67: 0.8449\n",
            "Epoch 23/50\n",
            "219/219 [==============================] - 2s 11ms/step - loss: 0.4813 - accuracy: 0.7999 - precision_67: 0.7989 - recall_67: 0.8603 - val_loss: 0.4795 - val_accuracy: 0.7905 - val_precision_67: 0.8747 - val_recall_67: 0.7269\n",
            "Epoch 24/50\n",
            "219/219 [==============================] - 2s 10ms/step - loss: 0.4838 - accuracy: 0.7954 - precision_67: 0.8010 - recall_67: 0.8460 - val_loss: 0.4632 - val_accuracy: 0.8085 - val_precision_67: 0.8410 - val_recall_67: 0.8079\n",
            "Epoch 25/50\n",
            "219/219 [==============================] - 2s 8ms/step - loss: 0.4861 - accuracy: 0.7976 - precision_67: 0.8015 - recall_67: 0.8501 - val_loss: 0.4604 - val_accuracy: 0.8149 - val_precision_67: 0.8318 - val_recall_67: 0.8356\n",
            "Epoch 26/50\n",
            "219/219 [==============================] - 2s 9ms/step - loss: 0.4723 - accuracy: 0.8089 - precision_67: 0.8058 - recall_67: 0.8692 - val_loss: 0.4580 - val_accuracy: 0.8162 - val_precision_67: 0.8322 - val_recall_67: 0.8380\n",
            "Epoch 27/50\n",
            "219/219 [==============================] - 2s 8ms/step - loss: 0.4726 - accuracy: 0.8051 - precision_67: 0.8035 - recall_67: 0.8646 - val_loss: 0.4575 - val_accuracy: 0.8136 - val_precision_67: 0.8299 - val_recall_67: 0.8356\n",
            "Epoch 28/50\n",
            "219/219 [==============================] - 2s 9ms/step - loss: 0.4732 - accuracy: 0.8020 - precision_67: 0.8023 - recall_67: 0.8593 - val_loss: 0.4554 - val_accuracy: 0.8149 - val_precision_67: 0.8396 - val_recall_67: 0.8241\n",
            "Epoch 29/50\n",
            "219/219 [==============================] - 3s 13ms/step - loss: 0.4671 - accuracy: 0.8063 - precision_67: 0.8047 - recall_67: 0.8651 - val_loss: 0.4613 - val_accuracy: 0.8046 - val_precision_67: 0.8043 - val_recall_67: 0.8565\n",
            "Epoch 30/50\n",
            "219/219 [==============================] - 2s 11ms/step - loss: 0.4656 - accuracy: 0.8097 - precision_67: 0.8109 - recall_67: 0.8623 - val_loss: 0.4591 - val_accuracy: 0.8033 - val_precision_67: 0.8496 - val_recall_67: 0.7847\n",
            "Epoch 31/50\n",
            "219/219 [==============================] - 2s 9ms/step - loss: 0.4587 - accuracy: 0.8120 - precision_67: 0.8119 - recall_67: 0.8659 - val_loss: 0.4581 - val_accuracy: 0.8072 - val_precision_67: 0.8249 - val_recall_67: 0.8287\n",
            "Epoch 32/50\n",
            "219/219 [==============================] - 2s 9ms/step - loss: 0.4601 - accuracy: 0.8081 - precision_67: 0.8116 - recall_67: 0.8575 - val_loss: 0.4549 - val_accuracy: 0.8072 - val_precision_67: 0.8147 - val_recall_67: 0.8449\n",
            "Epoch 33/50\n",
            "219/219 [==============================] - 2s 9ms/step - loss: 0.4567 - accuracy: 0.8057 - precision_67: 0.8093 - recall_67: 0.8557 - val_loss: 0.4566 - val_accuracy: 0.8021 - val_precision_67: 0.8131 - val_recall_67: 0.8356\n",
            "Epoch 34/50\n",
            "219/219 [==============================] - 2s 8ms/step - loss: 0.4570 - accuracy: 0.8019 - precision_67: 0.8059 - recall_67: 0.8526 - val_loss: 0.4599 - val_accuracy: 0.8021 - val_precision_67: 0.7996 - val_recall_67: 0.8588\n",
            "Epoch 35/50\n",
            "219/219 [==============================] - 2s 9ms/step - loss: 0.4480 - accuracy: 0.8163 - precision_67: 0.8167 - recall_67: 0.8677 - val_loss: 0.4627 - val_accuracy: 0.8008 - val_precision_67: 0.7953 - val_recall_67: 0.8634\n",
            "Epoch 36/50\n",
            "219/219 [==============================] - 3s 12ms/step - loss: 0.4475 - accuracy: 0.8081 - precision_67: 0.8088 - recall_67: 0.8623 - val_loss: 0.4596 - val_accuracy: 0.8008 - val_precision_67: 0.8420 - val_recall_67: 0.7894\n",
            "Epoch 37/50\n",
            "219/219 [==============================] - 2s 11ms/step - loss: 0.4452 - accuracy: 0.8169 - precision_67: 0.8174 - recall_67: 0.8679 - val_loss: 0.4589 - val_accuracy: 0.7943 - val_precision_67: 0.8452 - val_recall_67: 0.7708\n",
            "Epoch 38/50\n",
            "219/219 [==============================] - 2s 9ms/step - loss: 0.4531 - accuracy: 0.8110 - precision_67: 0.8151 - recall_67: 0.8582 - val_loss: 0.4562 - val_accuracy: 0.7982 - val_precision_67: 0.8132 - val_recall_67: 0.8264\n",
            "Epoch 39/50\n",
            "219/219 [==============================] - 2s 9ms/step - loss: 0.4435 - accuracy: 0.8146 - precision_67: 0.8163 - recall_67: 0.8643 - val_loss: 0.4586 - val_accuracy: 0.7995 - val_precision_67: 0.8108 - val_recall_67: 0.8333\n",
            "Epoch 40/50\n",
            "219/219 [==============================] - 2s 8ms/step - loss: 0.4449 - accuracy: 0.8149 - precision_67: 0.8166 - recall_67: 0.8646 - val_loss: 0.4570 - val_accuracy: 0.7995 - val_precision_67: 0.8108 - val_recall_67: 0.8333\n",
            "Epoch 41/50\n",
            "219/219 [==============================] - 2s 8ms/step - loss: 0.4486 - accuracy: 0.8030 - precision_67: 0.8112 - recall_67: 0.8463 - val_loss: 0.4583 - val_accuracy: 0.8046 - val_precision_67: 0.8271 - val_recall_67: 0.8194\n",
            "Epoch 42/50\n",
            "219/219 [==============================] - 2s 11ms/step - loss: 0.4409 - accuracy: 0.8129 - precision_67: 0.8164 - recall_67: 0.8603 - val_loss: 0.4559 - val_accuracy: 0.8021 - val_precision_67: 0.8022 - val_recall_67: 0.8542\n",
            "Epoch 43/50\n",
            "219/219 [==============================] - 3s 12ms/step - loss: 0.4419 - accuracy: 0.8164 - precision_67: 0.8169 - recall_67: 0.8677 - val_loss: 0.4589 - val_accuracy: 0.8008 - val_precision_67: 0.8112 - val_recall_67: 0.8356\n",
            "Epoch 44/50\n",
            "219/219 [==============================] - 2s 9ms/step - loss: 0.4445 - accuracy: 0.8133 - precision_67: 0.8169 - recall_67: 0.8605 - val_loss: 0.4686 - val_accuracy: 0.7982 - val_precision_67: 0.7823 - val_recall_67: 0.8819\n",
            "Epoch 45/50\n",
            "219/219 [==============================] - 2s 8ms/step - loss: 0.4447 - accuracy: 0.8157 - precision_67: 0.8143 - recall_67: 0.8705 - val_loss: 0.4595 - val_accuracy: 0.7982 - val_precision_67: 0.8345 - val_recall_67: 0.7940\n",
            "Epoch 46/50\n",
            "219/219 [==============================] - 2s 8ms/step - loss: 0.4409 - accuracy: 0.8156 - precision_67: 0.8203 - recall_67: 0.8600 - val_loss: 0.4569 - val_accuracy: 0.7969 - val_precision_67: 0.8442 - val_recall_67: 0.7778\n",
            "Epoch 47/50\n",
            "219/219 [==============================] - 2s 8ms/step - loss: 0.4422 - accuracy: 0.8074 - precision_67: 0.8097 - recall_67: 0.8590 - val_loss: 0.4704 - val_accuracy: 0.7879 - val_precision_67: 0.8638 - val_recall_67: 0.7338\n",
            "Epoch 48/50\n",
            "219/219 [==============================] - 2s 9ms/step - loss: 0.4370 - accuracy: 0.8199 - precision_67: 0.8224 - recall_67: 0.8664 - val_loss: 0.4531 - val_accuracy: 0.8008 - val_precision_67: 0.8354 - val_recall_67: 0.7986\n",
            "Epoch 49/50\n",
            "219/219 [==============================] - 2s 8ms/step - loss: 0.4354 - accuracy: 0.8159 - precision_67: 0.8174 - recall_67: 0.8656 - val_loss: 0.4654 - val_accuracy: 0.7879 - val_precision_67: 0.8450 - val_recall_67: 0.7569\n",
            "Epoch 50/50\n",
            "219/219 [==============================] - 3s 13ms/step - loss: 0.4313 - accuracy: 0.8212 - precision_67: 0.8222 - recall_67: 0.8697 - val_loss: 0.4558 - val_accuracy: 0.8046 - val_precision_67: 0.8043 - val_recall_67: 0.8565\n"
          ]
        }
      ]
    },
    {
      "cell_type": "code",
      "source": [
        "def plot_graphs(history, metric):\n",
        "    plt.plot(history.history[metric])\n",
        "    plt.plot(history.history[f'val_{metric}'])\n",
        "    plt.xlabel(\"Epochs\")\n",
        "    plt.ylabel(metric)\n",
        "    plt.legend([metric, f'val_{metric}'])\n",
        "    plt.show()\n",
        "    \n",
        "plot_graphs(history, \"accuracy\")\n",
        "plot_graphs(history, \"loss\")"
      ],
      "metadata": {
        "colab": {
          "base_uri": "https://localhost:8080/",
          "height": 881
        },
        "id": "-8-fQ81JSd9n",
        "outputId": "54e87b44-a842-4f09-ff98-0a29f2807e89"
      },
      "execution_count": 221,
      "outputs": [
        {
          "output_type": "display_data",
          "data": {
            "text/plain": [
              "<Figure size 640x480 with 1 Axes>"
            ],
            "image/png": "[encoded data removed]"
          },
          "metadata": {}
        },
        {
          "output_type": "display_data",
          "data": {
            "text/plain": [
              "<Figure size 640x480 with 1 Axes>"
            ],
            "image/png": "[encoded data removed]"
          },
          "metadata": {}
        }
      ]
    }
  ]
}